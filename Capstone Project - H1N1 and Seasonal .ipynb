{
 "cells": [
  {
   "cell_type": "markdown",
   "id": "7561a143",
   "metadata": {},
   "source": [
    "### Problem Statement: To Predict how likely individuals are to receive their H1N1 and Seasonal Flu Vaccines."
   ]
  },
  {
   "cell_type": "code",
   "execution_count": 1,
   "id": "aebd5152",
   "metadata": {},
   "outputs": [],
   "source": [
    "import pandas as pd\n",
    "import numpy as np\n",
    "import matplotlib.pyplot as plt\n",
    "%matplotlib inline"
   ]
  },
  {
   "cell_type": "code",
   "execution_count": 2,
   "id": "f90b18d0",
   "metadata": {},
   "outputs": [
    {
     "name": "stdout",
     "output_type": "stream",
     "text": [
      "C:\\Users\\saich\\Downloads\n"
     ]
    }
   ],
   "source": [
    "import io\n",
    "%cd \"C:\\Users\\saich\\Downloads\""
   ]
  },
  {
   "cell_type": "code",
   "execution_count": 3,
   "id": "0aa13bc9",
   "metadata": {},
   "outputs": [],
   "source": [
    "vaccinetrain = pd.read_csv(\"training_set_features.csv\")\n",
    "vaccinetest = pd.read_csv(\"test_set_features.csv\")\n",
    "vaccinelabels = pd.read_csv(\"training_set_labels.csv\")"
   ]
  },
  {
   "cell_type": "code",
   "execution_count": 4,
   "id": "1a2d0e0a",
   "metadata": {},
   "outputs": [
    {
     "name": "stdout",
     "output_type": "stream",
     "text": [
      "(26707, 36)\n",
      "(26708, 36)\n",
      "(26707, 3)\n"
     ]
    }
   ],
   "source": [
    "print(vaccinetrain.shape)\n",
    "print(vaccinetest.shape)\n",
    "print(vaccinelabels.shape)\n"
   ]
  },
  {
   "cell_type": "code",
   "execution_count": 490,
   "id": "3ccf15dd",
   "metadata": {},
   "outputs": [
    {
     "data": {
      "text/plain": [
       "employment_occupation          13470\n",
       "employment_industry            13330\n",
       "health_insurance               12274\n",
       "income_poverty                  4423\n",
       "doctor_recc_h1n1                2160\n",
       "doctor_recc_seasonal            2160\n",
       "rent_or_own                     2042\n",
       "employment_status               1463\n",
       "marital_status                  1408\n",
       "education                       1407\n",
       "chronic_med_condition            971\n",
       "child_under_6_months             820\n",
       "health_worker                    804\n",
       "opinion_seas_sick_from_vacc      537\n",
       "opinion_seas_risk                514\n",
       "opinion_seas_vacc_effective      462\n",
       "opinion_h1n1_sick_from_vacc      395\n",
       "opinion_h1n1_vacc_effective      391\n",
       "opinion_h1n1_risk                388\n",
       "household_children               249\n",
       "household_adults                 249\n",
       "behavioral_avoidance             208\n",
       "behavioral_touch_face            128\n",
       "h1n1_knowledge                   116\n",
       "h1n1_concern                      92\n",
       "behavioral_large_gatherings       87\n",
       "behavioral_outside_home           82\n",
       "behavioral_antiviral_meds         71\n",
       "behavioral_wash_hands             42\n",
       "behavioral_face_mask              19\n",
       "hhs_geo_region                     0\n",
       "census_msa                         0\n",
       "sex                                0\n",
       "race                               0\n",
       "age_group                          0\n",
       "respondent_id                      0\n",
       "dtype: int64"
      ]
     },
     "execution_count": 490,
     "metadata": {},
     "output_type": "execute_result"
    }
   ],
   "source": [
    "vaccinetrain.isnull().sum().sort_values(ascending=False)"
   ]
  },
  {
   "cell_type": "code",
   "execution_count": 491,
   "id": "7897ad4a",
   "metadata": {},
   "outputs": [
    {
     "data": {
      "text/plain": [
       "employment_occupation          13426\n",
       "employment_industry            13275\n",
       "health_insurance               12228\n",
       "income_poverty                  4497\n",
       "doctor_recc_h1n1                2160\n",
       "doctor_recc_seasonal            2160\n",
       "rent_or_own                     2036\n",
       "employment_status               1471\n",
       "marital_status                  1442\n",
       "education                       1407\n",
       "chronic_med_condition            932\n",
       "child_under_6_months             813\n",
       "health_worker                    789\n",
       "opinion_seas_sick_from_vacc      521\n",
       "opinion_seas_risk                499\n",
       "opinion_seas_vacc_effective      452\n",
       "opinion_h1n1_vacc_effective      398\n",
       "opinion_h1n1_risk                380\n",
       "opinion_h1n1_sick_from_vacc      375\n",
       "household_children               225\n",
       "household_adults                 225\n",
       "behavioral_avoidance             213\n",
       "behavioral_touch_face            128\n",
       "h1n1_knowledge                   122\n",
       "h1n1_concern                      85\n",
       "behavioral_outside_home           82\n",
       "behavioral_antiviral_meds         79\n",
       "behavioral_large_gatherings       72\n",
       "behavioral_wash_hands             40\n",
       "behavioral_face_mask              19\n",
       "hhs_geo_region                     0\n",
       "census_msa                         0\n",
       "sex                                0\n",
       "race                               0\n",
       "age_group                          0\n",
       "respondent_id                      0\n",
       "dtype: int64"
      ]
     },
     "execution_count": 491,
     "metadata": {},
     "output_type": "execute_result"
    }
   ],
   "source": [
    "vaccinetest.isnull().sum().sort_values(ascending=False)"
   ]
  },
  {
   "cell_type": "code",
   "execution_count": 6,
   "id": "0b8c778c",
   "metadata": {},
   "outputs": [],
   "source": [
    "# Since there are missing values in both Train and Test Set Im combining both the Datasets\n",
    "combinedf = pd.concat([vaccinetrain,vaccinetest],axis=0) # Row Concatenation "
   ]
  },
  {
   "cell_type": "code",
   "execution_count": 492,
   "id": "fc070bf6",
   "metadata": {},
   "outputs": [
    {
     "name": "stdout",
     "output_type": "stream",
     "text": [
      "<class 'pandas.core.frame.DataFrame'>\n",
      "Int64Index: 53415 entries, 0 to 26707\n",
      "Data columns (total 36 columns):\n",
      " #   Column                       Non-Null Count  Dtype  \n",
      "---  ------                       --------------  -----  \n",
      " 0   respondent_id                53415 non-null  int64  \n",
      " 1   h1n1_concern                 53238 non-null  float64\n",
      " 2   h1n1_knowledge               53177 non-null  float64\n",
      " 3   behavioral_antiviral_meds    53265 non-null  float64\n",
      " 4   behavioral_avoidance         52994 non-null  float64\n",
      " 5   behavioral_face_mask         53377 non-null  float64\n",
      " 6   behavioral_wash_hands        53333 non-null  float64\n",
      " 7   behavioral_large_gatherings  53256 non-null  float64\n",
      " 8   behavioral_outside_home      53251 non-null  float64\n",
      " 9   behavioral_touch_face        53159 non-null  float64\n",
      " 10  doctor_recc_h1n1             49095 non-null  float64\n",
      " 11  doctor_recc_seasonal         49095 non-null  float64\n",
      " 12  chronic_med_condition        51512 non-null  float64\n",
      " 13  child_under_6_months         51782 non-null  float64\n",
      " 14  health_worker                51822 non-null  float64\n",
      " 15  health_insurance             28913 non-null  float64\n",
      " 16  opinion_h1n1_vacc_effective  52626 non-null  float64\n",
      " 17  opinion_h1n1_risk            52647 non-null  float64\n",
      " 18  opinion_h1n1_sick_from_vacc  52645 non-null  float64\n",
      " 19  opinion_seas_vacc_effective  52501 non-null  float64\n",
      " 20  opinion_seas_risk            52402 non-null  float64\n",
      " 21  opinion_seas_sick_from_vacc  52357 non-null  float64\n",
      " 22  age_group                    53415 non-null  object \n",
      " 23  education                    50601 non-null  object \n",
      " 24  race                         53415 non-null  object \n",
      " 25  sex                          53415 non-null  object \n",
      " 26  income_poverty               44495 non-null  object \n",
      " 27  marital_status               50565 non-null  object \n",
      " 28  rent_or_own                  49337 non-null  object \n",
      " 29  employment_status            50481 non-null  object \n",
      " 30  hhs_geo_region               53415 non-null  object \n",
      " 31  census_msa                   53415 non-null  object \n",
      " 32  household_adults             52941 non-null  float64\n",
      " 33  household_children           52941 non-null  float64\n",
      " 34  employment_industry          26810 non-null  object \n",
      " 35  employment_occupation        26519 non-null  object \n",
      "dtypes: float64(23), int64(1), object(12)\n",
      "memory usage: 15.1+ MB\n"
     ]
    }
   ],
   "source": [
    "# info() method shows some of the characteristics of the data such as Column Name, No. of non-null values of our columns, \n",
    "#Dtype of the data, and Memory Usage.\n",
    "combinedf.info()\n",
    "# Many Variables have Null Values "
   ]
  },
  {
   "cell_type": "markdown",
   "id": "05dded5a",
   "metadata": {},
   "source": [
    "### Missing Value Imputation: Strategy (KNN Imputer)\n",
    "* KNN is a non parametric algorithm that uses distance like Euclidean to calculate distance between missing value and closest 5 neighbors(rows) and smallest distance value is imputed.\n",
    "* Before applying KNN imputer labelencoding of data must be done"
   ]
  },
  {
   "cell_type": "code",
   "execution_count": 5,
   "id": "9f47453a",
   "metadata": {},
   "outputs": [],
   "source": [
    "from sklearn.preprocessing import LabelEncoder"
   ]
  },
  {
   "cell_type": "code",
   "execution_count": 7,
   "id": "cbc85c68",
   "metadata": {},
   "outputs": [],
   "source": [
    "stringcols=combinedf.drop(['respondent_id'],axis=1)"
   ]
  },
  {
   "cell_type": "code",
   "execution_count": 8,
   "id": "60ba54f8",
   "metadata": {},
   "outputs": [],
   "source": [
    "stringcols=stringcols.astype(str).apply(lambda series:pd.Series(\n",
    "LabelEncoder().fit_transform(series[series.notnull()]),index = series[series.notnull()].index))"
   ]
  },
  {
   "cell_type": "code",
   "execution_count": 9,
   "id": "052e8b24",
   "metadata": {},
   "outputs": [],
   "source": [
    "from sklearn.impute import KNNImputer"
   ]
  },
  {
   "cell_type": "code",
   "execution_count": 10,
   "id": "3703e09c",
   "metadata": {},
   "outputs": [],
   "source": [
    "imputer = KNNImputer()"
   ]
  },
  {
   "cell_type": "code",
   "execution_count": 11,
   "id": "83917120",
   "metadata": {},
   "outputs": [],
   "source": [
    "stringcolsimp = imputer.fit_transform(stringcols)"
   ]
  },
  {
   "cell_type": "code",
   "execution_count": 13,
   "id": "85463d48",
   "metadata": {},
   "outputs": [],
   "source": [
    "stringcolsimp = pd.DataFrame(stringcolsimp,columns=stringcols.columns)"
   ]
  },
  {
   "cell_type": "code",
   "execution_count": 493,
   "id": "2f8a193a",
   "metadata": {},
   "outputs": [
    {
     "data": {
      "text/html": [
       "<div>\n",
       "<style scoped>\n",
       "    .dataframe tbody tr th:only-of-type {\n",
       "        vertical-align: middle;\n",
       "    }\n",
       "\n",
       "    .dataframe tbody tr th {\n",
       "        vertical-align: top;\n",
       "    }\n",
       "\n",
       "    .dataframe thead th {\n",
       "        text-align: right;\n",
       "    }\n",
       "</style>\n",
       "<table border=\"1\" class=\"dataframe\">\n",
       "  <thead>\n",
       "    <tr style=\"text-align: right;\">\n",
       "      <th></th>\n",
       "      <th>h1n1_concern</th>\n",
       "      <th>h1n1_knowledge</th>\n",
       "      <th>behavioral_antiviral_meds</th>\n",
       "      <th>behavioral_avoidance</th>\n",
       "      <th>behavioral_face_mask</th>\n",
       "      <th>behavioral_wash_hands</th>\n",
       "      <th>behavioral_large_gatherings</th>\n",
       "      <th>behavioral_outside_home</th>\n",
       "      <th>behavioral_touch_face</th>\n",
       "      <th>doctor_recc_h1n1</th>\n",
       "      <th>...</th>\n",
       "      <th>income_poverty</th>\n",
       "      <th>marital_status</th>\n",
       "      <th>rent_or_own</th>\n",
       "      <th>employment_status</th>\n",
       "      <th>hhs_geo_region</th>\n",
       "      <th>census_msa</th>\n",
       "      <th>household_adults</th>\n",
       "      <th>household_children</th>\n",
       "      <th>employment_industry</th>\n",
       "      <th>employment_occupation</th>\n",
       "    </tr>\n",
       "  </thead>\n",
       "  <tbody>\n",
       "    <tr>\n",
       "      <th>0</th>\n",
       "      <td>1.0</td>\n",
       "      <td>0.0</td>\n",
       "      <td>0.0</td>\n",
       "      <td>0.0</td>\n",
       "      <td>0.0</td>\n",
       "      <td>0.0</td>\n",
       "      <td>0.0</td>\n",
       "      <td>1.0</td>\n",
       "      <td>1.0</td>\n",
       "      <td>0.0</td>\n",
       "      <td>...</td>\n",
       "      <td>2.0</td>\n",
       "      <td>1.0</td>\n",
       "      <td>0.0</td>\n",
       "      <td>1.0</td>\n",
       "      <td>8.0</td>\n",
       "      <td>2.0</td>\n",
       "      <td>0.0</td>\n",
       "      <td>0.0</td>\n",
       "      <td>10.0</td>\n",
       "      <td>11.0</td>\n",
       "    </tr>\n",
       "    <tr>\n",
       "      <th>1</th>\n",
       "      <td>3.0</td>\n",
       "      <td>2.0</td>\n",
       "      <td>0.0</td>\n",
       "      <td>1.0</td>\n",
       "      <td>0.0</td>\n",
       "      <td>1.0</td>\n",
       "      <td>0.0</td>\n",
       "      <td>1.0</td>\n",
       "      <td>1.0</td>\n",
       "      <td>0.0</td>\n",
       "      <td>...</td>\n",
       "      <td>2.0</td>\n",
       "      <td>1.0</td>\n",
       "      <td>1.0</td>\n",
       "      <td>0.0</td>\n",
       "      <td>1.0</td>\n",
       "      <td>0.0</td>\n",
       "      <td>0.0</td>\n",
       "      <td>0.0</td>\n",
       "      <td>13.0</td>\n",
       "      <td>20.0</td>\n",
       "    </tr>\n",
       "    <tr>\n",
       "      <th>2</th>\n",
       "      <td>1.0</td>\n",
       "      <td>1.0</td>\n",
       "      <td>0.0</td>\n",
       "      <td>1.0</td>\n",
       "      <td>0.0</td>\n",
       "      <td>0.0</td>\n",
       "      <td>0.0</td>\n",
       "      <td>0.0</td>\n",
       "      <td>0.0</td>\n",
       "      <td>2.0</td>\n",
       "      <td>...</td>\n",
       "      <td>0.0</td>\n",
       "      <td>1.0</td>\n",
       "      <td>0.0</td>\n",
       "      <td>0.0</td>\n",
       "      <td>9.0</td>\n",
       "      <td>0.0</td>\n",
       "      <td>2.0</td>\n",
       "      <td>0.0</td>\n",
       "      <td>15.0</td>\n",
       "      <td>22.0</td>\n",
       "    </tr>\n",
       "    <tr>\n",
       "      <th>3</th>\n",
       "      <td>1.0</td>\n",
       "      <td>1.0</td>\n",
       "      <td>0.0</td>\n",
       "      <td>1.0</td>\n",
       "      <td>0.0</td>\n",
       "      <td>1.0</td>\n",
       "      <td>1.0</td>\n",
       "      <td>0.0</td>\n",
       "      <td>0.0</td>\n",
       "      <td>0.0</td>\n",
       "      <td>...</td>\n",
       "      <td>2.0</td>\n",
       "      <td>1.0</td>\n",
       "      <td>1.0</td>\n",
       "      <td>1.0</td>\n",
       "      <td>5.0</td>\n",
       "      <td>1.0</td>\n",
       "      <td>0.0</td>\n",
       "      <td>0.0</td>\n",
       "      <td>10.0</td>\n",
       "      <td>11.0</td>\n",
       "    </tr>\n",
       "    <tr>\n",
       "      <th>4</th>\n",
       "      <td>2.0</td>\n",
       "      <td>1.0</td>\n",
       "      <td>0.0</td>\n",
       "      <td>1.0</td>\n",
       "      <td>0.0</td>\n",
       "      <td>1.0</td>\n",
       "      <td>1.0</td>\n",
       "      <td>0.0</td>\n",
       "      <td>1.0</td>\n",
       "      <td>0.0</td>\n",
       "      <td>...</td>\n",
       "      <td>0.0</td>\n",
       "      <td>0.0</td>\n",
       "      <td>0.0</td>\n",
       "      <td>0.0</td>\n",
       "      <td>9.0</td>\n",
       "      <td>0.0</td>\n",
       "      <td>1.0</td>\n",
       "      <td>0.0</td>\n",
       "      <td>19.0</td>\n",
       "      <td>5.0</td>\n",
       "    </tr>\n",
       "  </tbody>\n",
       "</table>\n",
       "<p>5 rows × 35 columns</p>\n",
       "</div>"
      ],
      "text/plain": [
       "   h1n1_concern  h1n1_knowledge  behavioral_antiviral_meds  \\\n",
       "0           1.0             0.0                        0.0   \n",
       "1           3.0             2.0                        0.0   \n",
       "2           1.0             1.0                        0.0   \n",
       "3           1.0             1.0                        0.0   \n",
       "4           2.0             1.0                        0.0   \n",
       "\n",
       "   behavioral_avoidance  behavioral_face_mask  behavioral_wash_hands  \\\n",
       "0                   0.0                   0.0                    0.0   \n",
       "1                   1.0                   0.0                    1.0   \n",
       "2                   1.0                   0.0                    0.0   \n",
       "3                   1.0                   0.0                    1.0   \n",
       "4                   1.0                   0.0                    1.0   \n",
       "\n",
       "   behavioral_large_gatherings  behavioral_outside_home  \\\n",
       "0                          0.0                      1.0   \n",
       "1                          0.0                      1.0   \n",
       "2                          0.0                      0.0   \n",
       "3                          1.0                      0.0   \n",
       "4                          1.0                      0.0   \n",
       "\n",
       "   behavioral_touch_face  doctor_recc_h1n1  ...  income_poverty  \\\n",
       "0                    1.0               0.0  ...             2.0   \n",
       "1                    1.0               0.0  ...             2.0   \n",
       "2                    0.0               2.0  ...             0.0   \n",
       "3                    0.0               0.0  ...             2.0   \n",
       "4                    1.0               0.0  ...             0.0   \n",
       "\n",
       "   marital_status  rent_or_own  employment_status  hhs_geo_region  census_msa  \\\n",
       "0             1.0          0.0                1.0             8.0         2.0   \n",
       "1             1.0          1.0                0.0             1.0         0.0   \n",
       "2             1.0          0.0                0.0             9.0         0.0   \n",
       "3             1.0          1.0                1.0             5.0         1.0   \n",
       "4             0.0          0.0                0.0             9.0         0.0   \n",
       "\n",
       "   household_adults  household_children  employment_industry  \\\n",
       "0               0.0                 0.0                 10.0   \n",
       "1               0.0                 0.0                 13.0   \n",
       "2               2.0                 0.0                 15.0   \n",
       "3               0.0                 0.0                 10.0   \n",
       "4               1.0                 0.0                 19.0   \n",
       "\n",
       "   employment_occupation  \n",
       "0                   11.0  \n",
       "1                   20.0  \n",
       "2                   22.0  \n",
       "3                   11.0  \n",
       "4                    5.0  \n",
       "\n",
       "[5 rows x 35 columns]"
      ]
     },
     "execution_count": 493,
     "metadata": {},
     "output_type": "execute_result"
    }
   ],
   "source": [
    "stringcolsimp.head()"
   ]
  },
  {
   "cell_type": "markdown",
   "id": "e8f02f35",
   "metadata": {},
   "source": [
    "### Splitting back the data to Train data and Test data"
   ]
  },
  {
   "cell_type": "code",
   "execution_count": 17,
   "id": "71254340",
   "metadata": {},
   "outputs": [],
   "source": [
    "vaccinetraindf = stringcolsimp.loc[0:26706]"
   ]
  },
  {
   "cell_type": "code",
   "execution_count": 18,
   "id": "d6b039d2",
   "metadata": {},
   "outputs": [],
   "source": [
    "vaccinetestdf = stringcolsimp.loc[26708:53415]"
   ]
  },
  {
   "cell_type": "code",
   "execution_count": 19,
   "id": "0ea1df5f",
   "metadata": {},
   "outputs": [
    {
     "data": {
      "text/plain": [
       "(26707, 35)"
      ]
     },
     "execution_count": 19,
     "metadata": {},
     "output_type": "execute_result"
    }
   ],
   "source": [
    "vaccinetraindf.shape"
   ]
  },
  {
   "cell_type": "code",
   "execution_count": 20,
   "id": "951249a2",
   "metadata": {},
   "outputs": [
    {
     "data": {
      "text/plain": [
       "(26707, 35)"
      ]
     },
     "execution_count": 20,
     "metadata": {},
     "output_type": "execute_result"
    }
   ],
   "source": [
    "vaccinetestdf.shape"
   ]
  },
  {
   "cell_type": "markdown",
   "id": "47c9e7e0",
   "metadata": {},
   "source": [
    "### Hypothesis Testing:\n",
    "### a.) Seasonal Vaccine"
   ]
  },
  {
   "cell_type": "code",
   "execution_count": 495,
   "id": "f3d7c9ef",
   "metadata": {},
   "outputs": [],
   "source": [
    "from scipy.stats import chi2_contingency"
   ]
  },
  {
   "cell_type": "code",
   "execution_count": 496,
   "id": "4f86b165",
   "metadata": {},
   "outputs": [
    {
     "data": {
      "text/html": [
       "<div>\n",
       "<style scoped>\n",
       "    .dataframe tbody tr th:only-of-type {\n",
       "        vertical-align: middle;\n",
       "    }\n",
       "\n",
       "    .dataframe tbody tr th {\n",
       "        vertical-align: top;\n",
       "    }\n",
       "\n",
       "    .dataframe thead th {\n",
       "        text-align: right;\n",
       "    }\n",
       "</style>\n",
       "<table border=\"1\" class=\"dataframe\">\n",
       "  <thead>\n",
       "    <tr style=\"text-align: right;\">\n",
       "      <th>sex</th>\n",
       "      <th>0.0</th>\n",
       "      <th>1.0</th>\n",
       "    </tr>\n",
       "    <tr>\n",
       "      <th>seasonal_vaccine</th>\n",
       "      <th></th>\n",
       "      <th></th>\n",
       "    </tr>\n",
       "  </thead>\n",
       "  <tbody>\n",
       "    <tr>\n",
       "      <th>0</th>\n",
       "      <td>7970</td>\n",
       "      <td>6302</td>\n",
       "    </tr>\n",
       "    <tr>\n",
       "      <th>1</th>\n",
       "      <td>7888</td>\n",
       "      <td>4547</td>\n",
       "    </tr>\n",
       "  </tbody>\n",
       "</table>\n",
       "</div>"
      ],
      "text/plain": [
       "sex                0.0   1.0\n",
       "seasonal_vaccine            \n",
       "0                 7970  6302\n",
       "1                 7888  4547"
      ]
     },
     "execution_count": 496,
     "metadata": {},
     "output_type": "execute_result"
    }
   ],
   "source": [
    "# Null Hypothesis : There is Significance between seasonalvaccine and sex\n",
    "pd.crosstab(vaccinelabels.seasonal_vaccine,vaccinetraindf.sex)"
   ]
  },
  {
   "cell_type": "code",
   "execution_count": 497,
   "id": "1ab12421",
   "metadata": {},
   "outputs": [
    {
     "data": {
      "text/plain": [
       "(158.40462897107128,\n",
       " 2.5248076319253385e-36,\n",
       " 1,\n",
       " array([[8474.38409406, 5797.61590594],\n",
       "        [7383.61590594, 5051.38409406]]))"
      ]
     },
     "execution_count": 497,
     "metadata": {},
     "output_type": "execute_result"
    }
   ],
   "source": [
    "chi2_contingency(pd.crosstab(vaccinelabels.seasonal_vaccine,vaccinetraindf.sex))\n",
    "# Since p value < 0.05 reject null "
   ]
  },
  {
   "cell_type": "code",
   "execution_count": 498,
   "id": "0f41e478",
   "metadata": {},
   "outputs": [
    {
     "data": {
      "text/html": [
       "<div>\n",
       "<style scoped>\n",
       "    .dataframe tbody tr th:only-of-type {\n",
       "        vertical-align: middle;\n",
       "    }\n",
       "\n",
       "    .dataframe tbody tr th {\n",
       "        vertical-align: top;\n",
       "    }\n",
       "\n",
       "    .dataframe thead th {\n",
       "        text-align: right;\n",
       "    }\n",
       "</style>\n",
       "<table border=\"1\" class=\"dataframe\">\n",
       "  <thead>\n",
       "    <tr style=\"text-align: right;\">\n",
       "      <th>income_poverty</th>\n",
       "      <th>0.0</th>\n",
       "      <th>1.0</th>\n",
       "      <th>2.0</th>\n",
       "      <th>3.0</th>\n",
       "    </tr>\n",
       "    <tr>\n",
       "      <th>seasonal_vaccine</th>\n",
       "      <th></th>\n",
       "      <th></th>\n",
       "      <th></th>\n",
       "      <th></th>\n",
       "    </tr>\n",
       "  </thead>\n",
       "  <tbody>\n",
       "    <tr>\n",
       "      <th>0</th>\n",
       "      <td>6686</td>\n",
       "      <td>3427</td>\n",
       "      <td>1719</td>\n",
       "      <td>2440</td>\n",
       "    </tr>\n",
       "    <tr>\n",
       "      <th>1</th>\n",
       "      <td>6091</td>\n",
       "      <td>3383</td>\n",
       "      <td>978</td>\n",
       "      <td>1983</td>\n",
       "    </tr>\n",
       "  </tbody>\n",
       "</table>\n",
       "</div>"
      ],
      "text/plain": [
       "income_poverty     0.0   1.0   2.0   3.0\n",
       "seasonal_vaccine                        \n",
       "0                 6686  3427  1719  2440\n",
       "1                 6091  3383   978  1983"
      ]
     },
     "execution_count": 498,
     "metadata": {},
     "output_type": "execute_result"
    }
   ],
   "source": [
    "# Null Hypothesis : There is Significance between seasonalvaccine and income_poverty\n",
    "pd.crosstab(vaccinelabels.seasonal_vaccine,vaccinetraindf.income_poverty)"
   ]
  },
  {
   "cell_type": "code",
   "execution_count": 499,
   "id": "023fc02f",
   "metadata": {},
   "outputs": [
    {
     "data": {
      "text/plain": [
       "(153.17012658009583,\n",
       " 5.455880245363045e-33,\n",
       " 3,\n",
       " array([[6827.92316621, 3639.20769836, 1441.25450256, 2363.61463287],\n",
       "        [5949.07683379, 3170.79230164, 1255.74549744, 2059.38536713]]))"
      ]
     },
     "execution_count": 499,
     "metadata": {},
     "output_type": "execute_result"
    }
   ],
   "source": [
    "chi2_contingency(pd.crosstab(vaccinelabels.seasonal_vaccine,vaccinetraindf.income_poverty))\n",
    "# Since p value < 0.05 reject null "
   ]
  },
  {
   "cell_type": "code",
   "execution_count": 500,
   "id": "450f85d2",
   "metadata": {},
   "outputs": [
    {
     "data": {
      "text/html": [
       "<div>\n",
       "<style scoped>\n",
       "    .dataframe tbody tr th:only-of-type {\n",
       "        vertical-align: middle;\n",
       "    }\n",
       "\n",
       "    .dataframe tbody tr th {\n",
       "        vertical-align: top;\n",
       "    }\n",
       "\n",
       "    .dataframe thead th {\n",
       "        text-align: right;\n",
       "    }\n",
       "</style>\n",
       "<table border=\"1\" class=\"dataframe\">\n",
       "  <thead>\n",
       "    <tr style=\"text-align: right;\">\n",
       "      <th>education</th>\n",
       "      <th>0.0</th>\n",
       "      <th>1.0</th>\n",
       "      <th>2.0</th>\n",
       "      <th>3.0</th>\n",
       "      <th>4.0</th>\n",
       "    </tr>\n",
       "    <tr>\n",
       "      <th>seasonal_vaccine</th>\n",
       "      <th></th>\n",
       "      <th></th>\n",
       "      <th></th>\n",
       "      <th></th>\n",
       "      <th></th>\n",
       "    </tr>\n",
       "  </thead>\n",
       "  <tbody>\n",
       "    <tr>\n",
       "      <th>0</th>\n",
       "      <td>3199</td>\n",
       "      <td>1415</td>\n",
       "      <td>4933</td>\n",
       "      <td>3860</td>\n",
       "      <td>865</td>\n",
       "    </tr>\n",
       "    <tr>\n",
       "      <th>1</th>\n",
       "      <td>2598</td>\n",
       "      <td>948</td>\n",
       "      <td>5164</td>\n",
       "      <td>3183</td>\n",
       "      <td>542</td>\n",
       "    </tr>\n",
       "  </tbody>\n",
       "</table>\n",
       "</div>"
      ],
      "text/plain": [
       "education          0.0   1.0   2.0   3.0  4.0\n",
       "seasonal_vaccine                             \n",
       "0                 3199  1415  4933  3860  865\n",
       "1                 2598   948  5164  3183  542"
      ]
     },
     "execution_count": 500,
     "metadata": {},
     "output_type": "execute_result"
    }
   ],
   "source": [
    "# Null Hypothesis : There is Significance between seasonalvaccine and education\n",
    "pd.crosstab(vaccinelabels.seasonal_vaccine,vaccinetraindf.education)"
   ]
  },
  {
   "cell_type": "code",
   "execution_count": 501,
   "id": "cae9c85b",
   "metadata": {},
   "outputs": [
    {
     "data": {
      "text/plain": [
       "(173.57815735793127,\n",
       " 1.7841137139002192e-36,\n",
       " 4,\n",
       " array([[3097.86887333, 1262.76766391, 5395.7533231 , 3763.72097203,\n",
       "          751.88916763],\n",
       "        [2699.13112667, 1100.23233609, 4701.2466769 , 3279.27902797,\n",
       "          655.11083237]]))"
      ]
     },
     "execution_count": 501,
     "metadata": {},
     "output_type": "execute_result"
    }
   ],
   "source": [
    "chi2_contingency(pd.crosstab(vaccinelabels.seasonal_vaccine,vaccinetraindf.education))\n",
    "# Since p value < 0.05 reject null "
   ]
  },
  {
   "cell_type": "code",
   "execution_count": 502,
   "id": "b0dc2220",
   "metadata": {},
   "outputs": [
    {
     "data": {
      "text/html": [
       "<div>\n",
       "<style scoped>\n",
       "    .dataframe tbody tr th:only-of-type {\n",
       "        vertical-align: middle;\n",
       "    }\n",
       "\n",
       "    .dataframe tbody tr th {\n",
       "        vertical-align: top;\n",
       "    }\n",
       "\n",
       "    .dataframe thead th {\n",
       "        text-align: right;\n",
       "    }\n",
       "</style>\n",
       "<table border=\"1\" class=\"dataframe\">\n",
       "  <thead>\n",
       "    <tr style=\"text-align: right;\">\n",
       "      <th>doctor_recc_seasonal</th>\n",
       "      <th>0.0</th>\n",
       "      <th>1.0</th>\n",
       "      <th>2.0</th>\n",
       "    </tr>\n",
       "    <tr>\n",
       "      <th>seasonal_vaccine</th>\n",
       "      <th></th>\n",
       "      <th></th>\n",
       "      <th></th>\n",
       "    </tr>\n",
       "  </thead>\n",
       "  <tbody>\n",
       "    <tr>\n",
       "      <th>0</th>\n",
       "      <td>10756</td>\n",
       "      <td>2117</td>\n",
       "      <td>1399</td>\n",
       "    </tr>\n",
       "    <tr>\n",
       "      <th>1</th>\n",
       "      <td>5697</td>\n",
       "      <td>5977</td>\n",
       "      <td>761</td>\n",
       "    </tr>\n",
       "  </tbody>\n",
       "</table>\n",
       "</div>"
      ],
      "text/plain": [
       "doctor_recc_seasonal    0.0   1.0   2.0\n",
       "seasonal_vaccine                       \n",
       "0                     10756  2117  1399\n",
       "1                      5697  5977   761"
      ]
     },
     "execution_count": 502,
     "metadata": {},
     "output_type": "execute_result"
    }
   ],
   "source": [
    "# Null Hypothesis : There is Significance between seasonalvaccine and doctor_recc_seasonal\n",
    "pd.crosstab(vaccinelabels.seasonal_vaccine,vaccinetraindf.doctor_recc_seasonal)"
   ]
  },
  {
   "cell_type": "code",
   "execution_count": 503,
   "id": "be73723d",
   "metadata": {},
   "outputs": [
    {
     "data": {
      "text/plain": [
       "(3474.902794649153,\n",
       " 0.0,\n",
       " 2,\n",
       " array([[8792.3471749 , 4325.36668289, 1154.28614221],\n",
       "        [7660.6528251 , 3768.63331711, 1005.71385779]]))"
      ]
     },
     "execution_count": 503,
     "metadata": {},
     "output_type": "execute_result"
    }
   ],
   "source": [
    "chi2_contingency(pd.crosstab(vaccinelabels.seasonal_vaccine,vaccinetraindf.doctor_recc_seasonal))\n",
    "# Since p value < 0.05 reject null "
   ]
  },
  {
   "cell_type": "code",
   "execution_count": 504,
   "id": "6df292e1",
   "metadata": {},
   "outputs": [
    {
     "data": {
      "text/html": [
       "<div>\n",
       "<style scoped>\n",
       "    .dataframe tbody tr th:only-of-type {\n",
       "        vertical-align: middle;\n",
       "    }\n",
       "\n",
       "    .dataframe tbody tr th {\n",
       "        vertical-align: top;\n",
       "    }\n",
       "\n",
       "    .dataframe thead th {\n",
       "        text-align: right;\n",
       "    }\n",
       "</style>\n",
       "<table border=\"1\" class=\"dataframe\">\n",
       "  <thead>\n",
       "    <tr style=\"text-align: right;\">\n",
       "      <th>behavioral_face_mask</th>\n",
       "      <th>0.0</th>\n",
       "      <th>1.0</th>\n",
       "      <th>2.0</th>\n",
       "    </tr>\n",
       "    <tr>\n",
       "      <th>seasonal_vaccine</th>\n",
       "      <th></th>\n",
       "      <th></th>\n",
       "      <th></th>\n",
       "    </tr>\n",
       "  </thead>\n",
       "  <tbody>\n",
       "    <tr>\n",
       "      <th>0</th>\n",
       "      <td>13449</td>\n",
       "      <td>815</td>\n",
       "      <td>8</td>\n",
       "    </tr>\n",
       "    <tr>\n",
       "      <th>1</th>\n",
       "      <td>11398</td>\n",
       "      <td>1026</td>\n",
       "      <td>11</td>\n",
       "    </tr>\n",
       "  </tbody>\n",
       "</table>\n",
       "</div>"
      ],
      "text/plain": [
       "behavioral_face_mask    0.0   1.0  2.0\n",
       "seasonal_vaccine                      \n",
       "0                     13449   815    8\n",
       "1                     11398  1026   11"
      ]
     },
     "execution_count": 504,
     "metadata": {},
     "output_type": "execute_result"
    }
   ],
   "source": [
    "# Null Hypothesis : There is Significance between seasonalvaccine and behavioral_face_mask\n",
    "pd.crosstab(vaccinelabels.seasonal_vaccine,vaccinetraindf.behavioral_face_mask)"
   ]
  },
  {
   "cell_type": "code",
   "execution_count": 505,
   "id": "ef65d845",
   "metadata": {},
   "outputs": [
    {
     "data": {
      "text/plain": [
       "(67.92302367431634,\n",
       " 1.7811595018273916e-15,\n",
       " 2,\n",
       " array([[1.32780314e+04, 9.83815180e+02, 1.01534429e+01],\n",
       "        [1.15689686e+04, 8.57184820e+02, 8.84655708e+00]]))"
      ]
     },
     "execution_count": 505,
     "metadata": {},
     "output_type": "execute_result"
    }
   ],
   "source": [
    "chi2_contingency(pd.crosstab(vaccinelabels.seasonal_vaccine,vaccinetraindf.behavioral_face_mask))\n",
    "# Since p value < 0.05 reject null "
   ]
  },
  {
   "cell_type": "markdown",
   "id": "67bd9821",
   "metadata": {},
   "source": [
    "###  b.) H1N1_ Vaccine"
   ]
  },
  {
   "cell_type": "code",
   "execution_count": 506,
   "id": "18e8d50a",
   "metadata": {},
   "outputs": [
    {
     "data": {
      "text/html": [
       "<div>\n",
       "<style scoped>\n",
       "    .dataframe tbody tr th:only-of-type {\n",
       "        vertical-align: middle;\n",
       "    }\n",
       "\n",
       "    .dataframe tbody tr th {\n",
       "        vertical-align: top;\n",
       "    }\n",
       "\n",
       "    .dataframe thead th {\n",
       "        text-align: right;\n",
       "    }\n",
       "</style>\n",
       "<table border=\"1\" class=\"dataframe\">\n",
       "  <thead>\n",
       "    <tr style=\"text-align: right;\">\n",
       "      <th>sex</th>\n",
       "      <th>0.0</th>\n",
       "      <th>1.0</th>\n",
       "    </tr>\n",
       "    <tr>\n",
       "      <th>h1n1_vaccine</th>\n",
       "      <th></th>\n",
       "      <th></th>\n",
       "    </tr>\n",
       "  </thead>\n",
       "  <tbody>\n",
       "    <tr>\n",
       "      <th>0</th>\n",
       "      <td>12378</td>\n",
       "      <td>8655</td>\n",
       "    </tr>\n",
       "    <tr>\n",
       "      <th>1</th>\n",
       "      <td>3480</td>\n",
       "      <td>2194</td>\n",
       "    </tr>\n",
       "  </tbody>\n",
       "</table>\n",
       "</div>"
      ],
      "text/plain": [
       "sex             0.0   1.0\n",
       "h1n1_vaccine             \n",
       "0             12378  8655\n",
       "1              3480  2194"
      ]
     },
     "execution_count": 506,
     "metadata": {},
     "output_type": "execute_result"
    }
   ],
   "source": [
    "# Null Hypothesis : There is no significance between h1n1vaccine and sex\n",
    "pd.crosstab(vaccinelabels.h1n1_vaccine,vaccinetraindf.sex)"
   ]
  },
  {
   "cell_type": "code",
   "execution_count": 507,
   "id": "0c620bb1",
   "metadata": {},
   "outputs": [
    {
     "data": {
      "text/plain": [
       "(11.309981152455997,\n",
       " 0.0007709155489949327,\n",
       " 1,\n",
       " array([[12488.90979893,  8544.09020107],\n",
       "        [ 3369.09020107,  2304.90979893]]))"
      ]
     },
     "execution_count": 507,
     "metadata": {},
     "output_type": "execute_result"
    }
   ],
   "source": [
    "chi2_contingency(pd.crosstab(vaccinelabels.h1n1_vaccine,vaccinetraindf.sex))\n",
    "# Since p value < 0.05 reject null "
   ]
  },
  {
   "cell_type": "code",
   "execution_count": 508,
   "id": "3f9798c2",
   "metadata": {},
   "outputs": [
    {
     "data": {
      "text/html": [
       "<div>\n",
       "<style scoped>\n",
       "    .dataframe tbody tr th:only-of-type {\n",
       "        vertical-align: middle;\n",
       "    }\n",
       "\n",
       "    .dataframe tbody tr th {\n",
       "        vertical-align: top;\n",
       "    }\n",
       "\n",
       "    .dataframe thead th {\n",
       "        text-align: right;\n",
       "    }\n",
       "</style>\n",
       "<table border=\"1\" class=\"dataframe\">\n",
       "  <thead>\n",
       "    <tr style=\"text-align: right;\">\n",
       "      <th>income_poverty</th>\n",
       "      <th>0.0</th>\n",
       "      <th>1.0</th>\n",
       "      <th>2.0</th>\n",
       "      <th>3.0</th>\n",
       "    </tr>\n",
       "    <tr>\n",
       "      <th>h1n1_vaccine</th>\n",
       "      <th></th>\n",
       "      <th></th>\n",
       "      <th></th>\n",
       "      <th></th>\n",
       "    </tr>\n",
       "  </thead>\n",
       "  <tbody>\n",
       "    <tr>\n",
       "      <th>0</th>\n",
       "      <td>10178</td>\n",
       "      <td>5087</td>\n",
       "      <td>2181</td>\n",
       "      <td>3587</td>\n",
       "    </tr>\n",
       "    <tr>\n",
       "      <th>1</th>\n",
       "      <td>2599</td>\n",
       "      <td>1723</td>\n",
       "      <td>516</td>\n",
       "      <td>836</td>\n",
       "    </tr>\n",
       "  </tbody>\n",
       "</table>\n",
       "</div>"
      ],
      "text/plain": [
       "income_poverty    0.0   1.0   2.0   3.0\n",
       "h1n1_vaccine                           \n",
       "0               10178  5087  2181  3587\n",
       "1                2599  1723   516   836"
      ]
     },
     "execution_count": 508,
     "metadata": {},
     "output_type": "execute_result"
    }
   ],
   "source": [
    "# Null Hypothesis : There is no significance between seasonalvaccine and income_poverty\n",
    "pd.crosstab(vaccinelabels.h1n1_vaccine,vaccinetraindf.income_poverty)"
   ]
  },
  {
   "cell_type": "code",
   "execution_count": 509,
   "id": "256be515",
   "metadata": {},
   "outputs": [
    {
     "data": {
      "text/plain": [
       "(94.91226392182662,\n",
       " 1.9282818704757377e-20,\n",
       " 3,\n",
       " array([[10062.4795372 ,  5363.19054929,  2124.01246864,  3483.31744486],\n",
       "        [ 2714.5204628 ,  1446.80945071,   572.98753136,   939.68255514]]))"
      ]
     },
     "execution_count": 509,
     "metadata": {},
     "output_type": "execute_result"
    }
   ],
   "source": [
    "chi2_contingency(pd.crosstab(vaccinelabels.h1n1_vaccine,vaccinetraindf.income_poverty))\n",
    "# Since p value < 0.05 reject null "
   ]
  },
  {
   "cell_type": "code",
   "execution_count": 510,
   "id": "68d6117b",
   "metadata": {},
   "outputs": [
    {
     "data": {
      "text/html": [
       "<div>\n",
       "<style scoped>\n",
       "    .dataframe tbody tr th:only-of-type {\n",
       "        vertical-align: middle;\n",
       "    }\n",
       "\n",
       "    .dataframe tbody tr th {\n",
       "        vertical-align: top;\n",
       "    }\n",
       "\n",
       "    .dataframe thead th {\n",
       "        text-align: right;\n",
       "    }\n",
       "</style>\n",
       "<table border=\"1\" class=\"dataframe\">\n",
       "  <thead>\n",
       "    <tr style=\"text-align: right;\">\n",
       "      <th>education</th>\n",
       "      <th>0.0</th>\n",
       "      <th>1.0</th>\n",
       "      <th>2.0</th>\n",
       "      <th>3.0</th>\n",
       "      <th>4.0</th>\n",
       "    </tr>\n",
       "    <tr>\n",
       "      <th>h1n1_vaccine</th>\n",
       "      <th></th>\n",
       "      <th></th>\n",
       "      <th></th>\n",
       "      <th></th>\n",
       "      <th></th>\n",
       "    </tr>\n",
       "  </thead>\n",
       "  <tbody>\n",
       "    <tr>\n",
       "      <th>0</th>\n",
       "      <td>4726</td>\n",
       "      <td>1968</td>\n",
       "      <td>7614</td>\n",
       "      <td>5579</td>\n",
       "      <td>1146</td>\n",
       "    </tr>\n",
       "    <tr>\n",
       "      <th>1</th>\n",
       "      <td>1071</td>\n",
       "      <td>395</td>\n",
       "      <td>2483</td>\n",
       "      <td>1464</td>\n",
       "      <td>261</td>\n",
       "    </tr>\n",
       "  </tbody>\n",
       "</table>\n",
       "</div>"
      ],
      "text/plain": [
       "education      0.0   1.0   2.0   3.0   4.0\n",
       "h1n1_vaccine                              \n",
       "0             4726  1968  7614  5579  1146\n",
       "1             1071   395  2483  1464   261"
      ]
     },
     "execution_count": 510,
     "metadata": {},
     "output_type": "execute_result"
    }
   ],
   "source": [
    "# Null Hypothesis : There is no significance between h1n1_vaccine and education\n",
    "pd.crosstab(vaccinelabels.h1n1_vaccine,vaccinetraindf.education)"
   ]
  },
  {
   "cell_type": "code",
   "execution_count": 511,
   "id": "d88e3600",
   "metadata": {},
   "outputs": [
    {
     "data": {
      "text/plain": [
       "(130.12342530584624,\n",
       " 3.66443514946588e-27,\n",
       " 4,\n",
       " array([[4565.40611076, 1860.97199236, 7951.85535627, 5546.68884562,\n",
       "         1108.07769499],\n",
       "        [1231.59388924,  502.02800764, 2145.14464373, 1496.31115438,\n",
       "          298.92230501]]))"
      ]
     },
     "execution_count": 511,
     "metadata": {},
     "output_type": "execute_result"
    }
   ],
   "source": [
    "chi2_contingency(pd.crosstab(vaccinelabels.h1n1_vaccine,vaccinetraindf.education))\n",
    "# Since p value < 0.05 reject null "
   ]
  },
  {
   "cell_type": "code",
   "execution_count": 512,
   "id": "e4b368f1",
   "metadata": {},
   "outputs": [
    {
     "data": {
      "text/html": [
       "<div>\n",
       "<style scoped>\n",
       "    .dataframe tbody tr th:only-of-type {\n",
       "        vertical-align: middle;\n",
       "    }\n",
       "\n",
       "    .dataframe tbody tr th {\n",
       "        vertical-align: top;\n",
       "    }\n",
       "\n",
       "    .dataframe thead th {\n",
       "        text-align: right;\n",
       "    }\n",
       "</style>\n",
       "<table border=\"1\" class=\"dataframe\">\n",
       "  <thead>\n",
       "    <tr style=\"text-align: right;\">\n",
       "      <th>doctor_recc_seasonal</th>\n",
       "      <th>0.0</th>\n",
       "      <th>1.0</th>\n",
       "      <th>2.0</th>\n",
       "    </tr>\n",
       "    <tr>\n",
       "      <th>h1n1_vaccine</th>\n",
       "      <th></th>\n",
       "      <th></th>\n",
       "      <th></th>\n",
       "    </tr>\n",
       "  </thead>\n",
       "  <tbody>\n",
       "    <tr>\n",
       "      <th>0</th>\n",
       "      <td>13783</td>\n",
       "      <td>5275</td>\n",
       "      <td>1975</td>\n",
       "    </tr>\n",
       "    <tr>\n",
       "      <th>1</th>\n",
       "      <td>2670</td>\n",
       "      <td>2819</td>\n",
       "      <td>185</td>\n",
       "    </tr>\n",
       "  </tbody>\n",
       "</table>\n",
       "</div>"
      ],
      "text/plain": [
       "doctor_recc_seasonal    0.0   1.0   2.0\n",
       "h1n1_vaccine                           \n",
       "0                     13783  5275  1975\n",
       "1                      2670  2819   185"
      ]
     },
     "execution_count": 512,
     "metadata": {},
     "output_type": "execute_result"
    }
   ],
   "source": [
    "# Null Hypothesis : There is no significance between h1n1_vaccine and doctor_recc_seasonal\n",
    "pd.crosstab(vaccinelabels.h1n1_vaccine,vaccinetraindf.doctor_recc_seasonal)"
   ]
  },
  {
   "cell_type": "code",
   "execution_count": 513,
   "id": "382c6fe1",
   "metadata": {},
   "outputs": [
    {
     "data": {
      "text/plain": [
       "(1347.6234370031846,\n",
       " 2.329639991754564e-293,\n",
       " 2,\n",
       " array([[12957.49986895,  6374.40004493,  1701.10008612],\n",
       "        [ 3495.50013105,  1719.59995507,   458.89991388]]))"
      ]
     },
     "execution_count": 513,
     "metadata": {},
     "output_type": "execute_result"
    }
   ],
   "source": [
    "chi2_contingency(pd.crosstab(vaccinelabels.h1n1_vaccine,vaccinetraindf.doctor_recc_seasonal))\n",
    "# Since p value < 0.05 reject null "
   ]
  },
  {
   "cell_type": "code",
   "execution_count": 514,
   "id": "527ae094",
   "metadata": {},
   "outputs": [
    {
     "data": {
      "text/html": [
       "<div>\n",
       "<style scoped>\n",
       "    .dataframe tbody tr th:only-of-type {\n",
       "        vertical-align: middle;\n",
       "    }\n",
       "\n",
       "    .dataframe tbody tr th {\n",
       "        vertical-align: top;\n",
       "    }\n",
       "\n",
       "    .dataframe thead th {\n",
       "        text-align: right;\n",
       "    }\n",
       "</style>\n",
       "<table border=\"1\" class=\"dataframe\">\n",
       "  <thead>\n",
       "    <tr style=\"text-align: right;\">\n",
       "      <th>behavioral_face_mask</th>\n",
       "      <th>0.0</th>\n",
       "      <th>1.0</th>\n",
       "      <th>2.0</th>\n",
       "    </tr>\n",
       "    <tr>\n",
       "      <th>h1n1_vaccine</th>\n",
       "      <th></th>\n",
       "      <th></th>\n",
       "      <th></th>\n",
       "    </tr>\n",
       "  </thead>\n",
       "  <tbody>\n",
       "    <tr>\n",
       "      <th>0</th>\n",
       "      <td>19765</td>\n",
       "      <td>1255</td>\n",
       "      <td>13</td>\n",
       "    </tr>\n",
       "    <tr>\n",
       "      <th>1</th>\n",
       "      <td>5082</td>\n",
       "      <td>586</td>\n",
       "      <td>6</td>\n",
       "    </tr>\n",
       "  </tbody>\n",
       "</table>\n",
       "</div>"
      ],
      "text/plain": [
       "behavioral_face_mask    0.0   1.0  2.0\n",
       "h1n1_vaccine                          \n",
       "0                     19765  1255   13\n",
       "1                      5082   586    6"
      ]
     },
     "execution_count": 514,
     "metadata": {},
     "output_type": "execute_result"
    }
   ],
   "source": [
    "# Null Hypothesis : There is no significance between h1n1_vaccine and behavioral_face_mask\n",
    "pd.crosstab(vaccinelabels.h1n1_vaccine,vaccinetraindf.behavioral_face_mask)"
   ]
  },
  {
   "cell_type": "code",
   "execution_count": 515,
   "id": "676057d9",
   "metadata": {},
   "outputs": [
    {
     "data": {
      "text/plain": [
       "(133.81661811498145,\n",
       " 8.751662937660443e-30,\n",
       " 2,\n",
       " array([[1.95681638e+04, 1.44987280e+03, 1.49633804e+01],\n",
       "        [5.27883619e+03, 3.91127195e+02, 4.03661961e+00]]))"
      ]
     },
     "execution_count": 515,
     "metadata": {},
     "output_type": "execute_result"
    }
   ],
   "source": [
    "chi2_contingency(pd.crosstab(vaccinelabels.h1n1_vaccine,vaccinetraindf.behavioral_face_mask))\n",
    "# Since p value < 0.05 reject null "
   ]
  },
  {
   "cell_type": "code",
   "execution_count": 21,
   "id": "d82dccbb",
   "metadata": {},
   "outputs": [],
   "source": [
    "y1 = vaccinelabels.h1n1_vaccine \n",
    "y  = vaccinelabels.seasonal_vaccine\n",
    "X  = vaccinetraindf"
   ]
  },
  {
   "cell_type": "code",
   "execution_count": 516,
   "id": "90a0808d",
   "metadata": {},
   "outputs": [
    {
     "data": {
      "text/plain": [
       "<AxesSubplot:ylabel='Frequency'>"
      ]
     },
     "execution_count": 516,
     "metadata": {},
     "output_type": "execute_result"
    },
    {
     "data": {
      "image/png": "[encoded data removed]",
      "text/plain": [
       "<Figure size 432x288 with 1 Axes>"
      ]
     },
     "metadata": {
      "needs_background": "light"
     },
     "output_type": "display_data"
    }
   ],
   "source": [
    "vaccinelabels.seasonal_vaccine.plot(kind='hist')\n",
    "# Balanced Data"
   ]
  },
  {
   "cell_type": "code",
   "execution_count": 517,
   "id": "5f87578b",
   "metadata": {},
   "outputs": [
    {
     "data": {
      "text/plain": [
       "<AxesSubplot:ylabel='Frequency'>"
      ]
     },
     "execution_count": 517,
     "metadata": {},
     "output_type": "execute_result"
    },
    {
     "data": {
      "image/png": "[encoded data removed]",
      "text/plain": [
       "<Figure size 432x288 with 1 Axes>"
      ]
     },
     "metadata": {
      "needs_background": "light"
     },
     "output_type": "display_data"
    }
   ],
   "source": [
    "vaccinelabels.h1n1_vaccine.plot(kind='hist')\n",
    "# Imbalance Data"
   ]
  },
  {
   "cell_type": "markdown",
   "id": "53db268f",
   "metadata": {},
   "source": [
    "## Model Building and Idealogy : \n",
    "* As there are two binary variables to target, Let's create a classification model for each variable separately.\n",
    "* The variable seasonal vaccine is balanced, whereas the h1n1 vaccine variable is not.\n",
    "* Let's use SMOTE to balance the h1n1 vaccine variable."
   ]
  },
  {
   "cell_type": "code",
   "execution_count": 22,
   "id": "2d11964f",
   "metadata": {},
   "outputs": [],
   "source": [
    "from sklearn.metrics import classification_report\n",
    "from sklearn.model_selection import cross_val_score\n",
    "from sklearn.metrics import plot_roc_curve"
   ]
  },
  {
   "cell_type": "markdown",
   "id": "c1b7fe30",
   "metadata": {},
   "source": [
    "### Logistic Regression for Seasonal Vaccine "
   ]
  },
  {
   "cell_type": "code",
   "execution_count": 23,
   "id": "ba0ab338",
   "metadata": {},
   "outputs": [],
   "source": [
    "from sklearn.linear_model import LogisticRegression"
   ]
  },
  {
   "cell_type": "code",
   "execution_count": 35,
   "id": "f99030bf",
   "metadata": {},
   "outputs": [],
   "source": [
    "logit = LogisticRegression(max_iter=300)"
   ]
  },
  {
   "cell_type": "code",
   "execution_count": 36,
   "id": "5ab6dd34",
   "metadata": {},
   "outputs": [],
   "source": [
    "logitmodel= logit.fit(X,y)"
   ]
  },
  {
   "cell_type": "code",
   "execution_count": 37,
   "id": "1a68a255",
   "metadata": {},
   "outputs": [
    {
     "data": {
      "text/plain": [
       "0.7611487624967237"
      ]
     },
     "execution_count": 37,
     "metadata": {},
     "output_type": "execute_result"
    }
   ],
   "source": [
    "logitmodel.score(X,y)"
   ]
  },
  {
   "cell_type": "code",
   "execution_count": 38,
   "id": "9fabe99b",
   "metadata": {},
   "outputs": [
    {
     "data": {
      "text/plain": [
       "array([0.75739423, 0.759079  , 0.76427635, 0.76671035, 0.75360419])"
      ]
     },
     "execution_count": 38,
     "metadata": {},
     "output_type": "execute_result"
    }
   ],
   "source": [
    "cross_val_score(logitmodel,X,y)"
   ]
  },
  {
   "cell_type": "code",
   "execution_count": 28,
   "id": "938753d8",
   "metadata": {},
   "outputs": [
    {
     "data": {
      "text/plain": [
       "0.760212824"
      ]
     },
     "execution_count": 28,
     "metadata": {},
     "output_type": "execute_result"
    }
   ],
   "source": [
    "np.mean([0.75739423, 0.759079  , 0.76427635, 0.76671035, 0.75360419])"
   ]
  },
  {
   "cell_type": "code",
   "execution_count": 39,
   "id": "524ba9ab",
   "metadata": {},
   "outputs": [],
   "source": [
    "logitpredict = logitmodel.predict(X)"
   ]
  },
  {
   "cell_type": "code",
   "execution_count": 522,
   "id": "175dc5b6",
   "metadata": {},
   "outputs": [],
   "source": [
    "logitpredict_test = logitmodel.predict_proba(vaccinetestdf)"
   ]
  },
  {
   "cell_type": "code",
   "execution_count": 525,
   "id": "63017c41",
   "metadata": {},
   "outputs": [],
   "source": [
    "pd.DataFrame(logitpredict_test).to_csv(\"seaslog.csv\")"
   ]
  },
  {
   "cell_type": "code",
   "execution_count": 40,
   "id": "9acd6aee",
   "metadata": {},
   "outputs": [
    {
     "name": "stdout",
     "output_type": "stream",
     "text": [
      "              precision    recall  f1-score   support\n",
      "\n",
      "           0       0.77      0.79      0.78     14272\n",
      "           1       0.75      0.73      0.74     12435\n",
      "\n",
      "    accuracy                           0.76     26707\n",
      "   macro avg       0.76      0.76      0.76     26707\n",
      "weighted avg       0.76      0.76      0.76     26707\n",
      "\n"
     ]
    }
   ],
   "source": [
    "print(classification_report(y,logitpredict))"
   ]
  },
  {
   "cell_type": "code",
   "execution_count": 41,
   "id": "5e8c0f02",
   "metadata": {},
   "outputs": [
    {
     "data": {
      "text/html": [
       "<div>\n",
       "<style scoped>\n",
       "    .dataframe tbody tr th:only-of-type {\n",
       "        vertical-align: middle;\n",
       "    }\n",
       "\n",
       "    .dataframe tbody tr th {\n",
       "        vertical-align: top;\n",
       "    }\n",
       "\n",
       "    .dataframe thead th {\n",
       "        text-align: right;\n",
       "    }\n",
       "</style>\n",
       "<table border=\"1\" class=\"dataframe\">\n",
       "  <thead>\n",
       "    <tr style=\"text-align: right;\">\n",
       "      <th>col_0</th>\n",
       "      <th>0</th>\n",
       "      <th>1</th>\n",
       "    </tr>\n",
       "    <tr>\n",
       "      <th>seasonal_vaccine</th>\n",
       "      <th></th>\n",
       "      <th></th>\n",
       "    </tr>\n",
       "  </thead>\n",
       "  <tbody>\n",
       "    <tr>\n",
       "      <th>0</th>\n",
       "      <td>11278</td>\n",
       "      <td>2994</td>\n",
       "    </tr>\n",
       "    <tr>\n",
       "      <th>1</th>\n",
       "      <td>3385</td>\n",
       "      <td>9050</td>\n",
       "    </tr>\n",
       "  </tbody>\n",
       "</table>\n",
       "</div>"
      ],
      "text/plain": [
       "col_0                 0     1\n",
       "seasonal_vaccine             \n",
       "0                 11278  2994\n",
       "1                  3385  9050"
      ]
     },
     "execution_count": 41,
     "metadata": {},
     "output_type": "execute_result"
    }
   ],
   "source": [
    "pd.crosstab(y,logitpredict)"
   ]
  },
  {
   "cell_type": "code",
   "execution_count": 42,
   "id": "cf194824",
   "metadata": {},
   "outputs": [
    {
     "name": "stderr",
     "output_type": "stream",
     "text": [
      "C:\\Users\\saich\\anaconda3\\lib\\site-packages\\sklearn\\utils\\deprecation.py:87: FutureWarning: Function plot_roc_curve is deprecated; Function :func:`plot_roc_curve` is deprecated in 1.0 and will be removed in 1.2. Use one of the class methods: :meth:`sklearn.metric.RocCurveDisplay.from_predictions` or :meth:`sklearn.metric.RocCurveDisplay.from_estimator`.\n",
      "  warnings.warn(msg, category=FutureWarning)\n"
     ]
    },
    {
     "data": {
      "text/plain": [
       "<sklearn.metrics._plot.roc_curve.RocCurveDisplay at 0x2365fd4a460>"
      ]
     },
     "execution_count": 42,
     "metadata": {},
     "output_type": "execute_result"
    },
    {
     "data": {
      "image/png": "[encoded data removed]",
      "text/plain": [
       "<Figure size 432x288 with 1 Axes>"
      ]
     },
     "metadata": {
      "needs_background": "light"
     },
     "output_type": "display_data"
    }
   ],
   "source": [
    "plot_roc_curve(logitmodel,X,y)"
   ]
  },
  {
   "cell_type": "markdown",
   "id": "71cbd708",
   "metadata": {},
   "source": [
    "### Decision Tree Classification for Seasonal Vaccine "
   ]
  },
  {
   "cell_type": "code",
   "execution_count": 43,
   "id": "c5bfc7d7",
   "metadata": {},
   "outputs": [],
   "source": [
    "from sklearn.tree import DecisionTreeClassifier"
   ]
  },
  {
   "cell_type": "code",
   "execution_count": 44,
   "id": "4aa28dde",
   "metadata": {},
   "outputs": [],
   "source": [
    "tree = DecisionTreeClassifier(max_depth=16)"
   ]
  },
  {
   "cell_type": "code",
   "execution_count": 45,
   "id": "11d0e7ea",
   "metadata": {},
   "outputs": [],
   "source": [
    "treemodel = tree.fit(X,y)"
   ]
  },
  {
   "cell_type": "code",
   "execution_count": 46,
   "id": "5479e55b",
   "metadata": {},
   "outputs": [
    {
     "data": {
      "text/plain": [
       "0.9405399333508069"
      ]
     },
     "execution_count": 46,
     "metadata": {},
     "output_type": "execute_result"
    }
   ],
   "source": [
    "treemodel.score(X,y)"
   ]
  },
  {
   "cell_type": "code",
   "execution_count": 47,
   "id": "60f7860e",
   "metadata": {},
   "outputs": [
    {
     "data": {
      "text/plain": [
       "array([0.6963684 , 0.70647697, 0.70642202, 0.71241341, 0.69668601])"
      ]
     },
     "execution_count": 47,
     "metadata": {},
     "output_type": "execute_result"
    }
   ],
   "source": [
    "cross_val_score(treemodel,X,y)"
   ]
  },
  {
   "cell_type": "code",
   "execution_count": 48,
   "id": "534ebcbc",
   "metadata": {},
   "outputs": [
    {
     "data": {
      "text/plain": [
       "0.7036733620000001"
      ]
     },
     "execution_count": 48,
     "metadata": {},
     "output_type": "execute_result"
    }
   ],
   "source": [
    "np.mean([0.6963684 , 0.70647697, 0.70642202, 0.71241341, 0.69668601])"
   ]
  },
  {
   "cell_type": "code",
   "execution_count": 49,
   "id": "697d13f5",
   "metadata": {},
   "outputs": [],
   "source": [
    "treepredict = treemodel.predict(X)"
   ]
  },
  {
   "cell_type": "code",
   "execution_count": 553,
   "id": "9c1dfdd6",
   "metadata": {},
   "outputs": [],
   "source": [
    "treepredict_test = treemodel.predict(vaccinetestdf)"
   ]
  },
  {
   "cell_type": "code",
   "execution_count": 554,
   "id": "82ad0c38",
   "metadata": {},
   "outputs": [],
   "source": [
    "pd.DataFrame(treepredict_test).to_csv(\"seastree.csv\")"
   ]
  },
  {
   "cell_type": "code",
   "execution_count": 50,
   "id": "6f6fa072",
   "metadata": {},
   "outputs": [
    {
     "name": "stdout",
     "output_type": "stream",
     "text": [
      "              precision    recall  f1-score   support\n",
      "\n",
      "           0       0.94      0.95      0.94     14272\n",
      "           1       0.94      0.93      0.94     12435\n",
      "\n",
      "    accuracy                           0.94     26707\n",
      "   macro avg       0.94      0.94      0.94     26707\n",
      "weighted avg       0.94      0.94      0.94     26707\n",
      "\n"
     ]
    }
   ],
   "source": [
    "print(classification_report(y,treepredict))"
   ]
  },
  {
   "cell_type": "code",
   "execution_count": 51,
   "id": "80ee71f7",
   "metadata": {},
   "outputs": [
    {
     "data": {
      "text/html": [
       "<div>\n",
       "<style scoped>\n",
       "    .dataframe tbody tr th:only-of-type {\n",
       "        vertical-align: middle;\n",
       "    }\n",
       "\n",
       "    .dataframe tbody tr th {\n",
       "        vertical-align: top;\n",
       "    }\n",
       "\n",
       "    .dataframe thead th {\n",
       "        text-align: right;\n",
       "    }\n",
       "</style>\n",
       "<table border=\"1\" class=\"dataframe\">\n",
       "  <thead>\n",
       "    <tr style=\"text-align: right;\">\n",
       "      <th>col_0</th>\n",
       "      <th>0</th>\n",
       "      <th>1</th>\n",
       "    </tr>\n",
       "    <tr>\n",
       "      <th>seasonal_vaccine</th>\n",
       "      <th></th>\n",
       "      <th></th>\n",
       "    </tr>\n",
       "  </thead>\n",
       "  <tbody>\n",
       "    <tr>\n",
       "      <th>0</th>\n",
       "      <td>13507</td>\n",
       "      <td>765</td>\n",
       "    </tr>\n",
       "    <tr>\n",
       "      <th>1</th>\n",
       "      <td>823</td>\n",
       "      <td>11612</td>\n",
       "    </tr>\n",
       "  </tbody>\n",
       "</table>\n",
       "</div>"
      ],
      "text/plain": [
       "col_0                 0      1\n",
       "seasonal_vaccine              \n",
       "0                 13507    765\n",
       "1                   823  11612"
      ]
     },
     "execution_count": 51,
     "metadata": {},
     "output_type": "execute_result"
    }
   ],
   "source": [
    "pd.crosstab(y,treepredict)"
   ]
  },
  {
   "cell_type": "code",
   "execution_count": 52,
   "id": "083cad14",
   "metadata": {},
   "outputs": [
    {
     "name": "stderr",
     "output_type": "stream",
     "text": [
      "C:\\Users\\saich\\anaconda3\\lib\\site-packages\\sklearn\\utils\\deprecation.py:87: FutureWarning: Function plot_roc_curve is deprecated; Function :func:`plot_roc_curve` is deprecated in 1.0 and will be removed in 1.2. Use one of the class methods: :meth:`sklearn.metric.RocCurveDisplay.from_predictions` or :meth:`sklearn.metric.RocCurveDisplay.from_estimator`.\n",
      "  warnings.warn(msg, category=FutureWarning)\n"
     ]
    },
    {
     "data": {
      "text/plain": [
       "<sklearn.metrics._plot.roc_curve.RocCurveDisplay at 0x236609efbb0>"
      ]
     },
     "execution_count": 52,
     "metadata": {},
     "output_type": "execute_result"
    },
    {
     "data": {
      "image/png": "[encoded data removed]",
      "text/plain": [
       "<Figure size 432x288 with 1 Axes>"
      ]
     },
     "metadata": {
      "needs_background": "light"
     },
     "output_type": "display_data"
    }
   ],
   "source": [
    "plot_roc_curve(treemodel,X,y)"
   ]
  },
  {
   "cell_type": "markdown",
   "id": "b7711aec",
   "metadata": {},
   "source": [
    "### Random Forest Classification for Seasonal Vaccine "
   ]
  },
  {
   "cell_type": "code",
   "execution_count": 60,
   "id": "c05c8670",
   "metadata": {},
   "outputs": [],
   "source": [
    "from sklearn.ensemble import RandomForestClassifier"
   ]
  },
  {
   "cell_type": "code",
   "execution_count": 69,
   "id": "2623c14b",
   "metadata": {},
   "outputs": [],
   "source": [
    "RF = RandomForestClassifier(n_estimators=3)"
   ]
  },
  {
   "cell_type": "code",
   "execution_count": 70,
   "id": "6c312370",
   "metadata": {},
   "outputs": [],
   "source": [
    "RFmodel = RF.fit(X,y)"
   ]
  },
  {
   "cell_type": "code",
   "execution_count": 71,
   "id": "c3568c6e",
   "metadata": {},
   "outputs": [
    {
     "data": {
      "text/plain": [
       "0.9460815516531247"
      ]
     },
     "execution_count": 71,
     "metadata": {},
     "output_type": "execute_result"
    }
   ],
   "source": [
    "RFmodel.score(X,y)"
   ]
  },
  {
   "cell_type": "code",
   "execution_count": 72,
   "id": "c30a99c2",
   "metadata": {},
   "outputs": [
    {
     "data": {
      "text/plain": [
       "array([0.70497941, 0.70778735, 0.71316233, 0.72477064, 0.71035387])"
      ]
     },
     "execution_count": 72,
     "metadata": {},
     "output_type": "execute_result"
    }
   ],
   "source": [
    "cross_val_score(RFmodel,X,y)"
   ]
  },
  {
   "cell_type": "code",
   "execution_count": 73,
   "id": "a8622a59",
   "metadata": {},
   "outputs": [
    {
     "data": {
      "text/plain": [
       "0.7122107200000001"
      ]
     },
     "execution_count": 73,
     "metadata": {},
     "output_type": "execute_result"
    }
   ],
   "source": [
    "np.mean([0.70497941, 0.70778735, 0.71316233, 0.72477064, 0.71035387])"
   ]
  },
  {
   "cell_type": "code",
   "execution_count": 74,
   "id": "1ddeb889",
   "metadata": {},
   "outputs": [],
   "source": [
    "RFpredict = RFmodel.predict(X)"
   ]
  },
  {
   "cell_type": "code",
   "execution_count": 528,
   "id": "70049072",
   "metadata": {},
   "outputs": [],
   "source": [
    "RFpredict_test = RFmodel.predict_proba(vaccinetestdf)"
   ]
  },
  {
   "cell_type": "code",
   "execution_count": 529,
   "id": "8b24f85a",
   "metadata": {},
   "outputs": [],
   "source": [
    "pd.DataFrame(RFpredict_test).to_csv('RFseas.csv')"
   ]
  },
  {
   "cell_type": "code",
   "execution_count": 75,
   "id": "c4a62ddb",
   "metadata": {},
   "outputs": [
    {
     "name": "stdout",
     "output_type": "stream",
     "text": [
      "              precision    recall  f1-score   support\n",
      "\n",
      "           0       0.95      0.95      0.95     14272\n",
      "           1       0.95      0.94      0.94     12435\n",
      "\n",
      "    accuracy                           0.95     26707\n",
      "   macro avg       0.95      0.95      0.95     26707\n",
      "weighted avg       0.95      0.95      0.95     26707\n",
      "\n"
     ]
    }
   ],
   "source": [
    "print(classification_report(y,RFpredict))"
   ]
  },
  {
   "cell_type": "code",
   "execution_count": 76,
   "id": "182868f7",
   "metadata": {},
   "outputs": [
    {
     "data": {
      "text/html": [
       "<div>\n",
       "<style scoped>\n",
       "    .dataframe tbody tr th:only-of-type {\n",
       "        vertical-align: middle;\n",
       "    }\n",
       "\n",
       "    .dataframe tbody tr th {\n",
       "        vertical-align: top;\n",
       "    }\n",
       "\n",
       "    .dataframe thead th {\n",
       "        text-align: right;\n",
       "    }\n",
       "</style>\n",
       "<table border=\"1\" class=\"dataframe\">\n",
       "  <thead>\n",
       "    <tr style=\"text-align: right;\">\n",
       "      <th>col_0</th>\n",
       "      <th>0</th>\n",
       "      <th>1</th>\n",
       "    </tr>\n",
       "    <tr>\n",
       "      <th>seasonal_vaccine</th>\n",
       "      <th></th>\n",
       "      <th></th>\n",
       "    </tr>\n",
       "  </thead>\n",
       "  <tbody>\n",
       "    <tr>\n",
       "      <th>0</th>\n",
       "      <td>13593</td>\n",
       "      <td>679</td>\n",
       "    </tr>\n",
       "    <tr>\n",
       "      <th>1</th>\n",
       "      <td>761</td>\n",
       "      <td>11674</td>\n",
       "    </tr>\n",
       "  </tbody>\n",
       "</table>\n",
       "</div>"
      ],
      "text/plain": [
       "col_0                 0      1\n",
       "seasonal_vaccine              \n",
       "0                 13593    679\n",
       "1                   761  11674"
      ]
     },
     "execution_count": 76,
     "metadata": {},
     "output_type": "execute_result"
    }
   ],
   "source": [
    "pd.crosstab(y,RFpredict)"
   ]
  },
  {
   "cell_type": "code",
   "execution_count": 77,
   "id": "8e3541a2",
   "metadata": {},
   "outputs": [
    {
     "name": "stderr",
     "output_type": "stream",
     "text": [
      "C:\\Users\\saich\\anaconda3\\lib\\site-packages\\sklearn\\utils\\deprecation.py:87: FutureWarning: Function plot_roc_curve is deprecated; Function :func:`plot_roc_curve` is deprecated in 1.0 and will be removed in 1.2. Use one of the class methods: :meth:`sklearn.metric.RocCurveDisplay.from_predictions` or :meth:`sklearn.metric.RocCurveDisplay.from_estimator`.\n",
      "  warnings.warn(msg, category=FutureWarning)\n"
     ]
    },
    {
     "data": {
      "text/plain": [
       "<sklearn.metrics._plot.roc_curve.RocCurveDisplay at 0x23660056700>"
      ]
     },
     "execution_count": 77,
     "metadata": {},
     "output_type": "execute_result"
    },
    {
     "data": {
      "image/png": "[encoded data removed]",
      "text/plain": [
       "<Figure size 432x288 with 1 Axes>"
      ]
     },
     "metadata": {
      "needs_background": "light"
     },
     "output_type": "display_data"
    }
   ],
   "source": [
    "plot_roc_curve(RFmodel,X,y)"
   ]
  },
  {
   "cell_type": "markdown",
   "id": "a5f1396d",
   "metadata": {},
   "source": [
    "### Gradient Boosting Classification  for Seasonal Vaccine "
   ]
  },
  {
   "cell_type": "code",
   "execution_count": 78,
   "id": "384150a7",
   "metadata": {},
   "outputs": [],
   "source": [
    "from sklearn.ensemble import GradientBoostingClassifier"
   ]
  },
  {
   "cell_type": "code",
   "execution_count": 135,
   "id": "892104ea",
   "metadata": {},
   "outputs": [],
   "source": [
    "gbm= GradientBoostingClassifier(n_estimators=4000)"
   ]
  },
  {
   "cell_type": "code",
   "execution_count": 136,
   "id": "f0ab19f1",
   "metadata": {},
   "outputs": [],
   "source": [
    "gbmmodel = gbm.fit(X,y)"
   ]
  },
  {
   "cell_type": "code",
   "execution_count": 137,
   "id": "69b85ca9",
   "metadata": {},
   "outputs": [
    {
     "data": {
      "text/plain": [
       "0.8566667914778897"
      ]
     },
     "execution_count": 137,
     "metadata": {},
     "output_type": "execute_result"
    }
   ],
   "source": [
    "gbmmodel.score(X,y)"
   ]
  },
  {
   "cell_type": "code",
   "execution_count": 138,
   "id": "4f8b7df6",
   "metadata": {},
   "outputs": [
    {
     "data": {
      "text/plain": [
       "array([0.77031075, 0.77162112, 0.7760719 , 0.78187605, 0.77831867])"
      ]
     },
     "execution_count": 138,
     "metadata": {},
     "output_type": "execute_result"
    }
   ],
   "source": [
    "cross_val_score(gbmmodel,X,y) "
   ]
  },
  {
   "cell_type": "code",
   "execution_count": 139,
   "id": "a57b8c3f",
   "metadata": {},
   "outputs": [
    {
     "data": {
      "text/plain": [
       "0.7798708619999999"
      ]
     },
     "execution_count": 139,
     "metadata": {},
     "output_type": "execute_result"
    }
   ],
   "source": [
    "np.mean([0.77405466, 0.77461625, 0.77925482, 0.78674406, 0.78468452])"
   ]
  },
  {
   "cell_type": "code",
   "execution_count": 140,
   "id": "b414e62f",
   "metadata": {},
   "outputs": [],
   "source": [
    "gbmpredict = gbmmodel.predict(X)"
   ]
  },
  {
   "cell_type": "code",
   "execution_count": 530,
   "id": "b6de5e7b",
   "metadata": {},
   "outputs": [],
   "source": [
    "gbmpredict_test = gbmmodel.predict_proba(vaccinetestdf)"
   ]
  },
  {
   "cell_type": "code",
   "execution_count": 531,
   "id": "02b78101",
   "metadata": {},
   "outputs": [],
   "source": [
    "pd.DataFrame(gbmpredict_test).to_csv('gbmseas.csv')"
   ]
  },
  {
   "cell_type": "code",
   "execution_count": 141,
   "id": "c9881013",
   "metadata": {},
   "outputs": [
    {
     "name": "stdout",
     "output_type": "stream",
     "text": [
      "              precision    recall  f1-score   support\n",
      "\n",
      "           0       0.86      0.87      0.87     14272\n",
      "           1       0.85      0.84      0.84     12435\n",
      "\n",
      "    accuracy                           0.86     26707\n",
      "   macro avg       0.86      0.86      0.86     26707\n",
      "weighted avg       0.86      0.86      0.86     26707\n",
      "\n"
     ]
    }
   ],
   "source": [
    "print(classification_report(y,gbmpredict))"
   ]
  },
  {
   "cell_type": "code",
   "execution_count": 142,
   "id": "4459a33c",
   "metadata": {},
   "outputs": [
    {
     "data": {
      "text/html": [
       "<div>\n",
       "<style scoped>\n",
       "    .dataframe tbody tr th:only-of-type {\n",
       "        vertical-align: middle;\n",
       "    }\n",
       "\n",
       "    .dataframe tbody tr th {\n",
       "        vertical-align: top;\n",
       "    }\n",
       "\n",
       "    .dataframe thead th {\n",
       "        text-align: right;\n",
       "    }\n",
       "</style>\n",
       "<table border=\"1\" class=\"dataframe\">\n",
       "  <thead>\n",
       "    <tr style=\"text-align: right;\">\n",
       "      <th>col_0</th>\n",
       "      <th>0</th>\n",
       "      <th>1</th>\n",
       "    </tr>\n",
       "    <tr>\n",
       "      <th>seasonal_vaccine</th>\n",
       "      <th></th>\n",
       "      <th></th>\n",
       "    </tr>\n",
       "  </thead>\n",
       "  <tbody>\n",
       "    <tr>\n",
       "      <th>0</th>\n",
       "      <td>12460</td>\n",
       "      <td>1812</td>\n",
       "    </tr>\n",
       "    <tr>\n",
       "      <th>1</th>\n",
       "      <td>2016</td>\n",
       "      <td>10419</td>\n",
       "    </tr>\n",
       "  </tbody>\n",
       "</table>\n",
       "</div>"
      ],
      "text/plain": [
       "col_0                 0      1\n",
       "seasonal_vaccine              \n",
       "0                 12460   1812\n",
       "1                  2016  10419"
      ]
     },
     "execution_count": 142,
     "metadata": {},
     "output_type": "execute_result"
    }
   ],
   "source": [
    "pd.crosstab(y,gbmpredict)"
   ]
  },
  {
   "cell_type": "code",
   "execution_count": 143,
   "id": "0a91c0ae",
   "metadata": {},
   "outputs": [
    {
     "name": "stderr",
     "output_type": "stream",
     "text": [
      "C:\\Users\\saich\\anaconda3\\lib\\site-packages\\sklearn\\utils\\deprecation.py:87: FutureWarning: Function plot_roc_curve is deprecated; Function :func:`plot_roc_curve` is deprecated in 1.0 and will be removed in 1.2. Use one of the class methods: :meth:`sklearn.metric.RocCurveDisplay.from_predictions` or :meth:`sklearn.metric.RocCurveDisplay.from_estimator`.\n",
      "  warnings.warn(msg, category=FutureWarning)\n"
     ]
    },
    {
     "data": {
      "text/plain": [
       "<sklearn.metrics._plot.roc_curve.RocCurveDisplay at 0x23660928f40>"
      ]
     },
     "execution_count": 143,
     "metadata": {},
     "output_type": "execute_result"
    },
    {
     "data": {
      "image/png": "[encoded data removed]",
      "text/plain": [
       "<Figure size 432x288 with 1 Axes>"
      ]
     },
     "metadata": {
      "needs_background": "light"
     },
     "output_type": "display_data"
    }
   ],
   "source": [
    "plot_roc_curve(gbmmodel,X,y)"
   ]
  },
  {
   "cell_type": "markdown",
   "id": "f7cd7f02",
   "metadata": {},
   "source": [
    "### Support Vector Machine Classification for Seasonal Vaccine "
   ]
  },
  {
   "cell_type": "code",
   "execution_count": 159,
   "id": "6be55c78",
   "metadata": {},
   "outputs": [],
   "source": [
    "from sklearn.svm import SVC"
   ]
  },
  {
   "cell_type": "code",
   "execution_count": 160,
   "id": "b6fecb0f",
   "metadata": {},
   "outputs": [],
   "source": [
    "svm = SVC()"
   ]
  },
  {
   "cell_type": "code",
   "execution_count": 161,
   "id": "4a396269",
   "metadata": {},
   "outputs": [],
   "source": [
    "svmmodel = svm.fit(X,y)"
   ]
  },
  {
   "cell_type": "code",
   "execution_count": 163,
   "id": "7b1fe59f",
   "metadata": {},
   "outputs": [
    {
     "data": {
      "text/plain": [
       "0.7783352679072902"
      ]
     },
     "execution_count": 163,
     "metadata": {},
     "output_type": "execute_result"
    }
   ],
   "source": [
    "svmmodel.score(X,y)"
   ]
  },
  {
   "cell_type": "code",
   "execution_count": 165,
   "id": "db071b66",
   "metadata": {},
   "outputs": [
    {
     "data": {
      "text/plain": [
       "array([0.76843879, 0.76506926, 0.77682082, 0.77625913, 0.77195282])"
      ]
     },
     "execution_count": 165,
     "metadata": {},
     "output_type": "execute_result"
    }
   ],
   "source": [
    "cross_val_score(svmmodel,X,y)"
   ]
  },
  {
   "cell_type": "code",
   "execution_count": 518,
   "id": "39af2f42",
   "metadata": {},
   "outputs": [
    {
     "data": {
      "text/plain": [
       "0.7717081640000001"
      ]
     },
     "execution_count": 518,
     "metadata": {},
     "output_type": "execute_result"
    }
   ],
   "source": [
    "np.mean([0.76843879, 0.76506926, 0.77682082, 0.77625913, 0.77195282])"
   ]
  },
  {
   "cell_type": "code",
   "execution_count": 166,
   "id": "4aa41fe5",
   "metadata": {},
   "outputs": [],
   "source": [
    "svmpredict = svmmodel.predict(X)"
   ]
  },
  {
   "cell_type": "code",
   "execution_count": 535,
   "id": "940e1343",
   "metadata": {},
   "outputs": [],
   "source": [
    "pd.DataFrame(svmpredict_test).to_csv('svmseas.csv')"
   ]
  },
  {
   "cell_type": "code",
   "execution_count": 167,
   "id": "222ea3e0",
   "metadata": {},
   "outputs": [
    {
     "name": "stdout",
     "output_type": "stream",
     "text": [
      "              precision    recall  f1-score   support\n",
      "\n",
      "           0       0.78      0.81      0.80     14272\n",
      "           1       0.77      0.74      0.76     12435\n",
      "\n",
      "    accuracy                           0.78     26707\n",
      "   macro avg       0.78      0.78      0.78     26707\n",
      "weighted avg       0.78      0.78      0.78     26707\n",
      "\n"
     ]
    }
   ],
   "source": [
    "print(classification_report(y,svmpredict))"
   ]
  },
  {
   "cell_type": "code",
   "execution_count": 168,
   "id": "f7dc2f7b",
   "metadata": {},
   "outputs": [
    {
     "data": {
      "text/html": [
       "<div>\n",
       "<style scoped>\n",
       "    .dataframe tbody tr th:only-of-type {\n",
       "        vertical-align: middle;\n",
       "    }\n",
       "\n",
       "    .dataframe tbody tr th {\n",
       "        vertical-align: top;\n",
       "    }\n",
       "\n",
       "    .dataframe thead th {\n",
       "        text-align: right;\n",
       "    }\n",
       "</style>\n",
       "<table border=\"1\" class=\"dataframe\">\n",
       "  <thead>\n",
       "    <tr style=\"text-align: right;\">\n",
       "      <th>col_0</th>\n",
       "      <th>0</th>\n",
       "      <th>1</th>\n",
       "    </tr>\n",
       "    <tr>\n",
       "      <th>seasonal_vaccine</th>\n",
       "      <th></th>\n",
       "      <th></th>\n",
       "    </tr>\n",
       "  </thead>\n",
       "  <tbody>\n",
       "    <tr>\n",
       "      <th>0</th>\n",
       "      <td>11580</td>\n",
       "      <td>2692</td>\n",
       "    </tr>\n",
       "    <tr>\n",
       "      <th>1</th>\n",
       "      <td>3228</td>\n",
       "      <td>9207</td>\n",
       "    </tr>\n",
       "  </tbody>\n",
       "</table>\n",
       "</div>"
      ],
      "text/plain": [
       "col_0                 0     1\n",
       "seasonal_vaccine             \n",
       "0                 11580  2692\n",
       "1                  3228  9207"
      ]
     },
     "execution_count": 168,
     "metadata": {},
     "output_type": "execute_result"
    }
   ],
   "source": [
    "pd.crosstab(y,svmpredict)"
   ]
  },
  {
   "cell_type": "code",
   "execution_count": 169,
   "id": "3494cf9c",
   "metadata": {},
   "outputs": [
    {
     "name": "stderr",
     "output_type": "stream",
     "text": [
      "C:\\Users\\saich\\anaconda3\\lib\\site-packages\\sklearn\\utils\\deprecation.py:87: FutureWarning: Function plot_roc_curve is deprecated; Function :func:`plot_roc_curve` is deprecated in 1.0 and will be removed in 1.2. Use one of the class methods: :meth:`sklearn.metric.RocCurveDisplay.from_predictions` or :meth:`sklearn.metric.RocCurveDisplay.from_estimator`.\n",
      "  warnings.warn(msg, category=FutureWarning)\n"
     ]
    },
    {
     "data": {
      "text/plain": [
       "<sklearn.metrics._plot.roc_curve.RocCurveDisplay at 0x236000f0af0>"
      ]
     },
     "execution_count": 169,
     "metadata": {},
     "output_type": "execute_result"
    },
    {
     "data": {
      "image/png": "[encoded data removed]",
      "text/plain": [
       "<Figure size 432x288 with 1 Axes>"
      ]
     },
     "metadata": {
      "needs_background": "light"
     },
     "output_type": "display_data"
    }
   ],
   "source": [
    "plot_roc_curve(svmmodel,X,y)"
   ]
  },
  {
   "cell_type": "markdown",
   "id": "90d65db1",
   "metadata": {},
   "source": [
    "### Navie Bayes Classification for Seasonal Vaccine"
   ]
  },
  {
   "cell_type": "code",
   "execution_count": 144,
   "id": "c4eb83c6",
   "metadata": {},
   "outputs": [],
   "source": [
    "from sklearn.naive_bayes import BernoulliNB"
   ]
  },
  {
   "cell_type": "code",
   "execution_count": 145,
   "id": "cdc5945c",
   "metadata": {},
   "outputs": [],
   "source": [
    "nb = BernoulliNB()"
   ]
  },
  {
   "cell_type": "code",
   "execution_count": 146,
   "id": "d63b027f",
   "metadata": {},
   "outputs": [],
   "source": [
    "nbmodel = nb.fit(X,y)"
   ]
  },
  {
   "cell_type": "code",
   "execution_count": 147,
   "id": "8730008b",
   "metadata": {},
   "outputs": [
    {
     "data": {
      "text/plain": [
       "0.6936383719624069"
      ]
     },
     "execution_count": 147,
     "metadata": {},
     "output_type": "execute_result"
    }
   ],
   "source": [
    "nbmodel.score(X,y)"
   ]
  },
  {
   "cell_type": "code",
   "execution_count": 148,
   "id": "6d93f13f",
   "metadata": {},
   "outputs": [
    {
     "data": {
      "text/plain": [
       "array([0.68045676, 0.70423063, 0.69106909, 0.69855832, 0.68938401])"
      ]
     },
     "execution_count": 148,
     "metadata": {},
     "output_type": "execute_result"
    }
   ],
   "source": [
    "cross_val_score(nbmodel,X,y)"
   ]
  },
  {
   "cell_type": "code",
   "execution_count": 149,
   "id": "1eba0452",
   "metadata": {},
   "outputs": [
    {
     "data": {
      "text/plain": [
       "0.692739762"
      ]
     },
     "execution_count": 149,
     "metadata": {},
     "output_type": "execute_result"
    }
   ],
   "source": [
    "np.mean([0.68045676, 0.70423063, 0.69106909, 0.69855832, 0.68938401])"
   ]
  },
  {
   "cell_type": "code",
   "execution_count": 150,
   "id": "240b6263",
   "metadata": {},
   "outputs": [],
   "source": [
    "nbpredict = nbmodel.predict(X)"
   ]
  },
  {
   "cell_type": "code",
   "execution_count": 537,
   "id": "deee7899",
   "metadata": {},
   "outputs": [],
   "source": [
    "nbpredict_test = nbmodel.predict_proba(vaccinetestdf)"
   ]
  },
  {
   "cell_type": "code",
   "execution_count": 538,
   "id": "058b286d",
   "metadata": {},
   "outputs": [],
   "source": [
    "pd.DataFrame(nbpredict_test).to_csv('nbseas.csv')"
   ]
  },
  {
   "cell_type": "code",
   "execution_count": 151,
   "id": "4ffb0857",
   "metadata": {},
   "outputs": [
    {
     "name": "stdout",
     "output_type": "stream",
     "text": [
      "              precision    recall  f1-score   support\n",
      "\n",
      "           0       0.72      0.69      0.71     14272\n",
      "           1       0.66      0.70      0.68     12435\n",
      "\n",
      "    accuracy                           0.69     26707\n",
      "   macro avg       0.69      0.69      0.69     26707\n",
      "weighted avg       0.69      0.69      0.69     26707\n",
      "\n"
     ]
    }
   ],
   "source": [
    "print(classification_report(y,nbpredict))"
   ]
  },
  {
   "cell_type": "code",
   "execution_count": 152,
   "id": "36993fd9",
   "metadata": {},
   "outputs": [
    {
     "data": {
      "text/html": [
       "<div>\n",
       "<style scoped>\n",
       "    .dataframe tbody tr th:only-of-type {\n",
       "        vertical-align: middle;\n",
       "    }\n",
       "\n",
       "    .dataframe tbody tr th {\n",
       "        vertical-align: top;\n",
       "    }\n",
       "\n",
       "    .dataframe thead th {\n",
       "        text-align: right;\n",
       "    }\n",
       "</style>\n",
       "<table border=\"1\" class=\"dataframe\">\n",
       "  <thead>\n",
       "    <tr style=\"text-align: right;\">\n",
       "      <th>col_0</th>\n",
       "      <th>0</th>\n",
       "      <th>1</th>\n",
       "    </tr>\n",
       "    <tr>\n",
       "      <th>seasonal_vaccine</th>\n",
       "      <th></th>\n",
       "      <th></th>\n",
       "    </tr>\n",
       "  </thead>\n",
       "  <tbody>\n",
       "    <tr>\n",
       "      <th>0</th>\n",
       "      <td>9878</td>\n",
       "      <td>4394</td>\n",
       "    </tr>\n",
       "    <tr>\n",
       "      <th>1</th>\n",
       "      <td>3788</td>\n",
       "      <td>8647</td>\n",
       "    </tr>\n",
       "  </tbody>\n",
       "</table>\n",
       "</div>"
      ],
      "text/plain": [
       "col_0                0     1\n",
       "seasonal_vaccine            \n",
       "0                 9878  4394\n",
       "1                 3788  8647"
      ]
     },
     "execution_count": 152,
     "metadata": {},
     "output_type": "execute_result"
    }
   ],
   "source": [
    "pd.crosstab(y,nbpredict)"
   ]
  },
  {
   "cell_type": "code",
   "execution_count": 153,
   "id": "07c018b4",
   "metadata": {},
   "outputs": [
    {
     "name": "stderr",
     "output_type": "stream",
     "text": [
      "C:\\Users\\saich\\anaconda3\\lib\\site-packages\\sklearn\\utils\\deprecation.py:87: FutureWarning: Function plot_roc_curve is deprecated; Function :func:`plot_roc_curve` is deprecated in 1.0 and will be removed in 1.2. Use one of the class methods: :meth:`sklearn.metric.RocCurveDisplay.from_predictions` or :meth:`sklearn.metric.RocCurveDisplay.from_estimator`.\n",
      "  warnings.warn(msg, category=FutureWarning)\n"
     ]
    },
    {
     "data": {
      "text/plain": [
       "<sklearn.metrics._plot.roc_curve.RocCurveDisplay at 0x236607fb7f0>"
      ]
     },
     "execution_count": 153,
     "metadata": {},
     "output_type": "execute_result"
    },
    {
     "data": {
      "image/png": "[encoded data removed]",
      "text/plain": [
       "<Figure size 432x288 with 1 Axes>"
      ]
     },
     "metadata": {
      "needs_background": "light"
     },
     "output_type": "display_data"
    }
   ],
   "source": [
    "plot_roc_curve(nbmodel,X,y)"
   ]
  },
  {
   "cell_type": "markdown",
   "id": "b6208312",
   "metadata": {},
   "source": [
    "# Balancing the Imbalance data using Smote"
   ]
  },
  {
   "cell_type": "code",
   "execution_count": 174,
   "id": "2aefa705",
   "metadata": {},
   "outputs": [],
   "source": [
    "from imblearn.over_sampling import SMOTE"
   ]
  },
  {
   "cell_type": "code",
   "execution_count": 175,
   "id": "8759344d",
   "metadata": {},
   "outputs": [],
   "source": [
    "smote = SMOTE(random_state=60)"
   ]
  },
  {
   "cell_type": "code",
   "execution_count": 176,
   "id": "eed8bbcf",
   "metadata": {},
   "outputs": [],
   "source": [
    "X_smote,y_smote = smote.fit_resample(X,y1)"
   ]
  },
  {
   "cell_type": "code",
   "execution_count": 177,
   "id": "6537c8ff",
   "metadata": {},
   "outputs": [
    {
     "name": "stdout",
     "output_type": "stream",
     "text": [
      "h1n1_vaccine\n",
      "0               21033\n",
      "1                5674\n",
      "dtype: int64\n",
      "h1n1_vaccine\n",
      "0               21033\n",
      "1               21033\n",
      "dtype: int64\n"
     ]
    }
   ],
   "source": [
    "print(pd.DataFrame(y1).value_counts())\n",
    "print(pd.DataFrame(y_smote).value_counts())"
   ]
  },
  {
   "cell_type": "markdown",
   "id": "07377de9",
   "metadata": {},
   "source": [
    "### Logistic Regression for H1N1 Vaccine"
   ]
  },
  {
   "cell_type": "code",
   "execution_count": 178,
   "id": "4c0f67fb",
   "metadata": {},
   "outputs": [
    {
     "name": "stdout",
     "output_type": "stream",
     "text": [
      "(42066, 35)\n",
      "(42066,)\n"
     ]
    }
   ],
   "source": [
    "print(X_smote.shape)\n",
    "print(y_smote.shape)"
   ]
  },
  {
   "cell_type": "code",
   "execution_count": 188,
   "id": "c266f8d8",
   "metadata": {},
   "outputs": [],
   "source": [
    "logit2 = LogisticRegression(max_iter=400)"
   ]
  },
  {
   "cell_type": "code",
   "execution_count": 189,
   "id": "561ed43c",
   "metadata": {},
   "outputs": [],
   "source": [
    "logitmodel_smote = logit2.fit(X_smote,y_smote)"
   ]
  },
  {
   "cell_type": "code",
   "execution_count": 190,
   "id": "95046f78",
   "metadata": {},
   "outputs": [
    {
     "data": {
      "text/plain": [
       "0.762943945228926"
      ]
     },
     "execution_count": 190,
     "metadata": {},
     "output_type": "execute_result"
    }
   ],
   "source": [
    "logitmodel_smote.score(X_smote,y_smote)"
   ]
  },
  {
   "cell_type": "code",
   "execution_count": 191,
   "id": "bd89f092",
   "metadata": {},
   "outputs": [
    {
     "data": {
      "text/plain": [
       "array([0.75124792, 0.75692381, 0.76714608, 0.77011768, 0.76678949])"
      ]
     },
     "execution_count": 191,
     "metadata": {},
     "output_type": "execute_result"
    }
   ],
   "source": [
    "cross_val_score(logitmodel_smote,X_smote,y_smote)"
   ]
  },
  {
   "cell_type": "code",
   "execution_count": 182,
   "id": "29c29a9c",
   "metadata": {},
   "outputs": [
    {
     "data": {
      "text/plain": [
       "0.7624449959999999"
      ]
     },
     "execution_count": 182,
     "metadata": {},
     "output_type": "execute_result"
    }
   ],
   "source": [
    "np.mean([0.75124792, 0.75692381, 0.76714608, 0.77011768, 0.76678949])"
   ]
  },
  {
   "cell_type": "code",
   "execution_count": 192,
   "id": "2e6bcaf9",
   "metadata": {},
   "outputs": [],
   "source": [
    "logitsmote_predict = logitmodel_smote.predict(X_smote)"
   ]
  },
  {
   "cell_type": "code",
   "execution_count": 539,
   "id": "1b8d65de",
   "metadata": {},
   "outputs": [],
   "source": [
    "logitsmote_predict_test = logitmodel_smote.predict_proba(vaccinetestdf)"
   ]
  },
  {
   "cell_type": "code",
   "execution_count": 540,
   "id": "2e1e04a2",
   "metadata": {},
   "outputs": [],
   "source": [
    "pd.DataFrame(logitsmote_predict_test).to_csv('h1n1log.csv')"
   ]
  },
  {
   "cell_type": "code",
   "execution_count": 193,
   "id": "9904d3e8",
   "metadata": {},
   "outputs": [
    {
     "name": "stdout",
     "output_type": "stream",
     "text": [
      "              precision    recall  f1-score   support\n",
      "\n",
      "           0       0.76      0.76      0.76     21033\n",
      "           1       0.76      0.77      0.76     21033\n",
      "\n",
      "    accuracy                           0.76     42066\n",
      "   macro avg       0.76      0.76      0.76     42066\n",
      "weighted avg       0.76      0.76      0.76     42066\n",
      "\n"
     ]
    }
   ],
   "source": [
    "print(classification_report(y_smote,logitsmote_predict))"
   ]
  },
  {
   "cell_type": "code",
   "execution_count": 194,
   "id": "9893a931",
   "metadata": {},
   "outputs": [
    {
     "data": {
      "text/html": [
       "<div>\n",
       "<style scoped>\n",
       "    .dataframe tbody tr th:only-of-type {\n",
       "        vertical-align: middle;\n",
       "    }\n",
       "\n",
       "    .dataframe tbody tr th {\n",
       "        vertical-align: top;\n",
       "    }\n",
       "\n",
       "    .dataframe thead th {\n",
       "        text-align: right;\n",
       "    }\n",
       "</style>\n",
       "<table border=\"1\" class=\"dataframe\">\n",
       "  <thead>\n",
       "    <tr style=\"text-align: right;\">\n",
       "      <th>col_0</th>\n",
       "      <th>0</th>\n",
       "      <th>1</th>\n",
       "    </tr>\n",
       "    <tr>\n",
       "      <th>h1n1_vaccine</th>\n",
       "      <th></th>\n",
       "      <th></th>\n",
       "    </tr>\n",
       "  </thead>\n",
       "  <tbody>\n",
       "    <tr>\n",
       "      <th>0</th>\n",
       "      <td>15990</td>\n",
       "      <td>5043</td>\n",
       "    </tr>\n",
       "    <tr>\n",
       "      <th>1</th>\n",
       "      <td>4929</td>\n",
       "      <td>16104</td>\n",
       "    </tr>\n",
       "  </tbody>\n",
       "</table>\n",
       "</div>"
      ],
      "text/plain": [
       "col_0             0      1\n",
       "h1n1_vaccine              \n",
       "0             15990   5043\n",
       "1              4929  16104"
      ]
     },
     "execution_count": 194,
     "metadata": {},
     "output_type": "execute_result"
    }
   ],
   "source": [
    "pd.crosstab(y_smote,logitsmote_predict)"
   ]
  },
  {
   "cell_type": "code",
   "execution_count": 195,
   "id": "f9e06614",
   "metadata": {},
   "outputs": [
    {
     "name": "stderr",
     "output_type": "stream",
     "text": [
      "C:\\Users\\saich\\anaconda3\\lib\\site-packages\\sklearn\\utils\\deprecation.py:87: FutureWarning: Function plot_roc_curve is deprecated; Function :func:`plot_roc_curve` is deprecated in 1.0 and will be removed in 1.2. Use one of the class methods: :meth:`sklearn.metric.RocCurveDisplay.from_predictions` or :meth:`sklearn.metric.RocCurveDisplay.from_estimator`.\n",
      "  warnings.warn(msg, category=FutureWarning)\n"
     ]
    },
    {
     "data": {
      "text/plain": [
       "<sklearn.metrics._plot.roc_curve.RocCurveDisplay at 0x2360f411b20>"
      ]
     },
     "execution_count": 195,
     "metadata": {},
     "output_type": "execute_result"
    },
    {
     "data": {
      "image/png": "[encoded data removed]",
      "text/plain": [
       "<Figure size 432x288 with 1 Axes>"
      ]
     },
     "metadata": {
      "needs_background": "light"
     },
     "output_type": "display_data"
    }
   ],
   "source": [
    "plot_roc_curve(logitmodel_smote,X_smote,y_smote)"
   ]
  },
  {
   "cell_type": "markdown",
   "id": "f8e4db6d",
   "metadata": {},
   "source": [
    "### Decision Tree Classification for H1N1 Vaccine : "
   ]
  },
  {
   "cell_type": "code",
   "execution_count": 230,
   "id": "2faa2caa",
   "metadata": {},
   "outputs": [],
   "source": [
    "treesmote = DecisionTreeClassifier(max_depth=11)"
   ]
  },
  {
   "cell_type": "code",
   "execution_count": 231,
   "id": "0896ebc1",
   "metadata": {},
   "outputs": [],
   "source": [
    "treemodel_smote = treesmote.fit(X_smote,y_smote)"
   ]
  },
  {
   "cell_type": "code",
   "execution_count": 232,
   "id": "2f3c961d",
   "metadata": {},
   "outputs": [
    {
     "data": {
      "text/plain": [
       "0.9075024960775924"
      ]
     },
     "execution_count": 232,
     "metadata": {},
     "output_type": "execute_result"
    }
   ],
   "source": [
    "treemodel_smote.score(X_smote,y_smote)"
   ]
  },
  {
   "cell_type": "code",
   "execution_count": 233,
   "id": "06e9d970",
   "metadata": {},
   "outputs": [
    {
     "data": {
      "text/plain": [
       "array([0.69550749, 0.85391656, 0.93010817, 0.9365268 , 0.93212885])"
      ]
     },
     "execution_count": 233,
     "metadata": {},
     "output_type": "execute_result"
    }
   ],
   "source": [
    "cross_val_score(treemodel_smote,X_smote,y_smote)"
   ]
  },
  {
   "cell_type": "code",
   "execution_count": 234,
   "id": "5647a025",
   "metadata": {},
   "outputs": [
    {
     "data": {
      "text/plain": [
       "0.8696375740000001"
      ]
     },
     "execution_count": 234,
     "metadata": {},
     "output_type": "execute_result"
    }
   ],
   "source": [
    "np.mean([0.69550749, 0.85391656, 0.93010817, 0.9365268 , 0.93212885])"
   ]
  },
  {
   "cell_type": "code",
   "execution_count": 235,
   "id": "ae077620",
   "metadata": {},
   "outputs": [],
   "source": [
    "treepredict_smote = treemodel_smote.predict(X_smote)"
   ]
  },
  {
   "cell_type": "code",
   "execution_count": 541,
   "id": "6417fe04",
   "metadata": {},
   "outputs": [],
   "source": [
    "treepredict_smote_test =treemodel_smote.predict_proba(vaccinetestdf)"
   ]
  },
  {
   "cell_type": "code",
   "execution_count": 543,
   "id": "d1441e8d",
   "metadata": {},
   "outputs": [],
   "source": [
    "pd.DataFrame(treepredict_smote_test).to_csv('h1n1tree.csv')"
   ]
  },
  {
   "cell_type": "code",
   "execution_count": 236,
   "id": "6135499e",
   "metadata": {},
   "outputs": [
    {
     "name": "stdout",
     "output_type": "stream",
     "text": [
      "              precision    recall  f1-score   support\n",
      "\n",
      "           0       0.88      0.95      0.91     21033\n",
      "           1       0.94      0.87      0.90     21033\n",
      "\n",
      "    accuracy                           0.91     42066\n",
      "   macro avg       0.91      0.91      0.91     42066\n",
      "weighted avg       0.91      0.91      0.91     42066\n",
      "\n"
     ]
    }
   ],
   "source": [
    "print(classification_report(y_smote,treepredict_smote))"
   ]
  },
  {
   "cell_type": "code",
   "execution_count": 237,
   "id": "da1e0a02",
   "metadata": {},
   "outputs": [
    {
     "data": {
      "text/html": [
       "<div>\n",
       "<style scoped>\n",
       "    .dataframe tbody tr th:only-of-type {\n",
       "        vertical-align: middle;\n",
       "    }\n",
       "\n",
       "    .dataframe tbody tr th {\n",
       "        vertical-align: top;\n",
       "    }\n",
       "\n",
       "    .dataframe thead th {\n",
       "        text-align: right;\n",
       "    }\n",
       "</style>\n",
       "<table border=\"1\" class=\"dataframe\">\n",
       "  <thead>\n",
       "    <tr style=\"text-align: right;\">\n",
       "      <th>col_0</th>\n",
       "      <th>0</th>\n",
       "      <th>1</th>\n",
       "    </tr>\n",
       "    <tr>\n",
       "      <th>h1n1_vaccine</th>\n",
       "      <th></th>\n",
       "      <th></th>\n",
       "    </tr>\n",
       "  </thead>\n",
       "  <tbody>\n",
       "    <tr>\n",
       "      <th>0</th>\n",
       "      <td>19877</td>\n",
       "      <td>1156</td>\n",
       "    </tr>\n",
       "    <tr>\n",
       "      <th>1</th>\n",
       "      <td>2735</td>\n",
       "      <td>18298</td>\n",
       "    </tr>\n",
       "  </tbody>\n",
       "</table>\n",
       "</div>"
      ],
      "text/plain": [
       "col_0             0      1\n",
       "h1n1_vaccine              \n",
       "0             19877   1156\n",
       "1              2735  18298"
      ]
     },
     "execution_count": 237,
     "metadata": {},
     "output_type": "execute_result"
    }
   ],
   "source": [
    "pd.crosstab(y_smote,treepredict_smote)"
   ]
  },
  {
   "cell_type": "code",
   "execution_count": 238,
   "id": "95ab2479",
   "metadata": {},
   "outputs": [
    {
     "name": "stderr",
     "output_type": "stream",
     "text": [
      "C:\\Users\\saich\\anaconda3\\lib\\site-packages\\sklearn\\utils\\deprecation.py:87: FutureWarning: Function plot_roc_curve is deprecated; Function :func:`plot_roc_curve` is deprecated in 1.0 and will be removed in 1.2. Use one of the class methods: :meth:`sklearn.metric.RocCurveDisplay.from_predictions` or :meth:`sklearn.metric.RocCurveDisplay.from_estimator`.\n",
      "  warnings.warn(msg, category=FutureWarning)\n"
     ]
    },
    {
     "data": {
      "text/plain": [
       "<sklearn.metrics._plot.roc_curve.RocCurveDisplay at 0x2360e11b310>"
      ]
     },
     "execution_count": 238,
     "metadata": {},
     "output_type": "execute_result"
    },
    {
     "data": {
      "image/png": "[encoded data removed]",
      "text/plain": [
       "<Figure size 432x288 with 1 Axes>"
      ]
     },
     "metadata": {
      "needs_background": "light"
     },
     "output_type": "display_data"
    }
   ],
   "source": [
    "plot_roc_curve(treemodel_smote,X_smote,y_smote)"
   ]
  },
  {
   "cell_type": "markdown",
   "id": "138b5e15",
   "metadata": {},
   "source": [
    "### Random Forest Classification for H1N1 Vaccine : "
   ]
  },
  {
   "cell_type": "code",
   "execution_count": 409,
   "id": "0385aa6c",
   "metadata": {},
   "outputs": [],
   "source": [
    "RFsmote = RandomForestClassifier(n_estimators=7,max_depth=12)"
   ]
  },
  {
   "cell_type": "code",
   "execution_count": 410,
   "id": "4546824d",
   "metadata": {},
   "outputs": [],
   "source": [
    "RFmodel_smote = RFsmote.fit(X_smote,y_smote)"
   ]
  },
  {
   "cell_type": "code",
   "execution_count": 411,
   "id": "41f40feb",
   "metadata": {},
   "outputs": [
    {
     "data": {
      "text/plain": [
       "0.9242856463652356"
      ]
     },
     "execution_count": 411,
     "metadata": {},
     "output_type": "execute_result"
    }
   ],
   "source": [
    "RFmodel_smote.score(X_smote,y_smote)"
   ]
  },
  {
   "cell_type": "code",
   "execution_count": 412,
   "id": "af60e834",
   "metadata": {},
   "outputs": [
    {
     "data": {
      "text/plain": [
       "array([0.6931305 , 0.87388565, 0.94591703, 0.95304885, 0.94413408])"
      ]
     },
     "execution_count": 412,
     "metadata": {},
     "output_type": "execute_result"
    }
   ],
   "source": [
    "cross_val_score(RFmodel_smote,X_smote,y_smote)"
   ]
  },
  {
   "cell_type": "code",
   "execution_count": 413,
   "id": "d7c9063b",
   "metadata": {},
   "outputs": [
    {
     "data": {
      "text/plain": [
       "0.8820232220000002"
      ]
     },
     "execution_count": 413,
     "metadata": {},
     "output_type": "execute_result"
    }
   ],
   "source": [
    "np.mean([0.6931305 , 0.87388565, 0.94591703, 0.95304885, 0.94413408])"
   ]
  },
  {
   "cell_type": "code",
   "execution_count": 414,
   "id": "8bf10354",
   "metadata": {},
   "outputs": [],
   "source": [
    "RFsmote_predict = RFmodel_smote.predict(X_smote)"
   ]
  },
  {
   "cell_type": "code",
   "execution_count": 555,
   "id": "703f4890",
   "metadata": {},
   "outputs": [],
   "source": [
    "RFsmote_predict_test = RFmodel_smote.predict(vaccinetestdf)"
   ]
  },
  {
   "cell_type": "code",
   "execution_count": 556,
   "id": "9e63ff6e",
   "metadata": {},
   "outputs": [],
   "source": [
    "pd.DataFrame(RFsmote_predict_test).to_csv('h1h1RF.csv')"
   ]
  },
  {
   "cell_type": "code",
   "execution_count": 415,
   "id": "1cb9174c",
   "metadata": {},
   "outputs": [
    {
     "name": "stdout",
     "output_type": "stream",
     "text": [
      "              precision    recall  f1-score   support\n",
      "\n",
      "           0       0.90      0.95      0.93     21033\n",
      "           1       0.95      0.90      0.92     21033\n",
      "\n",
      "    accuracy                           0.92     42066\n",
      "   macro avg       0.93      0.92      0.92     42066\n",
      "weighted avg       0.93      0.92      0.92     42066\n",
      "\n"
     ]
    }
   ],
   "source": [
    "print(classification_report(y_smote,RFsmote_predict))"
   ]
  },
  {
   "cell_type": "code",
   "execution_count": 416,
   "id": "2af8d3d9",
   "metadata": {},
   "outputs": [
    {
     "data": {
      "text/html": [
       "<div>\n",
       "<style scoped>\n",
       "    .dataframe tbody tr th:only-of-type {\n",
       "        vertical-align: middle;\n",
       "    }\n",
       "\n",
       "    .dataframe tbody tr th {\n",
       "        vertical-align: top;\n",
       "    }\n",
       "\n",
       "    .dataframe thead th {\n",
       "        text-align: right;\n",
       "    }\n",
       "</style>\n",
       "<table border=\"1\" class=\"dataframe\">\n",
       "  <thead>\n",
       "    <tr style=\"text-align: right;\">\n",
       "      <th>col_0</th>\n",
       "      <th>0</th>\n",
       "      <th>1</th>\n",
       "    </tr>\n",
       "    <tr>\n",
       "      <th>h1n1_vaccine</th>\n",
       "      <th></th>\n",
       "      <th></th>\n",
       "    </tr>\n",
       "  </thead>\n",
       "  <tbody>\n",
       "    <tr>\n",
       "      <th>0</th>\n",
       "      <td>20006</td>\n",
       "      <td>1027</td>\n",
       "    </tr>\n",
       "    <tr>\n",
       "      <th>1</th>\n",
       "      <td>2158</td>\n",
       "      <td>18875</td>\n",
       "    </tr>\n",
       "  </tbody>\n",
       "</table>\n",
       "</div>"
      ],
      "text/plain": [
       "col_0             0      1\n",
       "h1n1_vaccine              \n",
       "0             20006   1027\n",
       "1              2158  18875"
      ]
     },
     "execution_count": 416,
     "metadata": {},
     "output_type": "execute_result"
    }
   ],
   "source": [
    "pd.crosstab(y_smote,RFsmote_predict)"
   ]
  },
  {
   "cell_type": "code",
   "execution_count": 417,
   "id": "2773b076",
   "metadata": {},
   "outputs": [
    {
     "name": "stderr",
     "output_type": "stream",
     "text": [
      "C:\\Users\\saich\\anaconda3\\lib\\site-packages\\sklearn\\utils\\deprecation.py:87: FutureWarning: Function plot_roc_curve is deprecated; Function :func:`plot_roc_curve` is deprecated in 1.0 and will be removed in 1.2. Use one of the class methods: :meth:`sklearn.metric.RocCurveDisplay.from_predictions` or :meth:`sklearn.metric.RocCurveDisplay.from_estimator`.\n",
      "  warnings.warn(msg, category=FutureWarning)\n"
     ]
    },
    {
     "data": {
      "text/plain": [
       "<sklearn.metrics._plot.roc_curve.RocCurveDisplay at 0x2360fc79fa0>"
      ]
     },
     "execution_count": 417,
     "metadata": {},
     "output_type": "execute_result"
    },
    {
     "data": {
      "image/png": "[encoded data removed]",
      "text/plain": [
       "<Figure size 432x288 with 1 Axes>"
      ]
     },
     "metadata": {
      "needs_background": "light"
     },
     "output_type": "display_data"
    }
   ],
   "source": [
    "plot_roc_curve(RFmodel_smote,X_smote,y_smote)"
   ]
  },
  {
   "cell_type": "markdown",
   "id": "f8df0d96",
   "metadata": {},
   "source": [
    "### Gradient Boosting Classification for H1N1 Vaccine : "
   ]
  },
  {
   "cell_type": "code",
   "execution_count": 457,
   "id": "a8f333c2",
   "metadata": {},
   "outputs": [],
   "source": [
    "gbm_smote = GradientBoostingClassifier(n_estimators=700)"
   ]
  },
  {
   "cell_type": "code",
   "execution_count": 458,
   "id": "6cbcbb6c",
   "metadata": {},
   "outputs": [],
   "source": [
    "gbmmodel_smote = gbm_smote.fit(X_smote,y_smote)"
   ]
  },
  {
   "cell_type": "code",
   "execution_count": 459,
   "id": "cee15880",
   "metadata": {},
   "outputs": [
    {
     "data": {
      "text/plain": [
       "0.9202443778823753"
      ]
     },
     "execution_count": 459,
     "metadata": {},
     "output_type": "execute_result"
    }
   ],
   "source": [
    "gbmmodel_smote.score(X_smote,y_smote)"
   ]
  },
  {
   "cell_type": "code",
   "execution_count": 455,
   "id": "946859af",
   "metadata": {},
   "outputs": [
    {
     "data": {
      "text/plain": [
       "array([0.64606608, 0.8851777 , 0.96612386, 0.9656484 , 0.9630334 ])"
      ]
     },
     "execution_count": 455,
     "metadata": {},
     "output_type": "execute_result"
    }
   ],
   "source": [
    "cross_val_score(gbmmodel_smote,X_smote,y_smote)"
   ]
  },
  {
   "cell_type": "code",
   "execution_count": 456,
   "id": "3bc0417e",
   "metadata": {},
   "outputs": [
    {
     "data": {
      "text/plain": [
       "0.885209888"
      ]
     },
     "execution_count": 456,
     "metadata": {},
     "output_type": "execute_result"
    }
   ],
   "source": [
    "np.mean([0.64606608, 0.8851777 , 0.96612386, 0.9656484 , 0.9630334 ])"
   ]
  },
  {
   "cell_type": "code",
   "execution_count": 460,
   "id": "c8f4ce7a",
   "metadata": {},
   "outputs": [],
   "source": [
    "gbmpredict_smote = gbmmodel_smote.predict(X_smote)"
   ]
  },
  {
   "cell_type": "code",
   "execution_count": 546,
   "id": "7fc6de0f",
   "metadata": {},
   "outputs": [],
   "source": [
    "gbmpredict_smote_test = gbmmodel_smote.predict_proba(vaccinetestdf)"
   ]
  },
  {
   "cell_type": "code",
   "execution_count": 547,
   "id": "dccad26e",
   "metadata": {},
   "outputs": [],
   "source": [
    "pd.DataFrame(gbmpredict_smote_test).to_csv('h1n1gbm.csv')"
   ]
  },
  {
   "cell_type": "code",
   "execution_count": 461,
   "id": "fde661c4",
   "metadata": {},
   "outputs": [
    {
     "name": "stdout",
     "output_type": "stream",
     "text": [
      "              precision    recall  f1-score   support\n",
      "\n",
      "           0       0.89      0.96      0.92     21033\n",
      "           1       0.95      0.88      0.92     21033\n",
      "\n",
      "    accuracy                           0.92     42066\n",
      "   macro avg       0.92      0.92      0.92     42066\n",
      "weighted avg       0.92      0.92      0.92     42066\n",
      "\n"
     ]
    }
   ],
   "source": [
    "print(classification_report(y_smote,gbmpredict_smote))"
   ]
  },
  {
   "cell_type": "code",
   "execution_count": 462,
   "id": "49c51671",
   "metadata": {},
   "outputs": [
    {
     "data": {
      "text/html": [
       "<div>\n",
       "<style scoped>\n",
       "    .dataframe tbody tr th:only-of-type {\n",
       "        vertical-align: middle;\n",
       "    }\n",
       "\n",
       "    .dataframe tbody tr th {\n",
       "        vertical-align: top;\n",
       "    }\n",
       "\n",
       "    .dataframe thead th {\n",
       "        text-align: right;\n",
       "    }\n",
       "</style>\n",
       "<table border=\"1\" class=\"dataframe\">\n",
       "  <thead>\n",
       "    <tr style=\"text-align: right;\">\n",
       "      <th>col_0</th>\n",
       "      <th>0</th>\n",
       "      <th>1</th>\n",
       "    </tr>\n",
       "    <tr>\n",
       "      <th>h1n1_vaccine</th>\n",
       "      <th></th>\n",
       "      <th></th>\n",
       "    </tr>\n",
       "  </thead>\n",
       "  <tbody>\n",
       "    <tr>\n",
       "      <th>0</th>\n",
       "      <td>20099</td>\n",
       "      <td>934</td>\n",
       "    </tr>\n",
       "    <tr>\n",
       "      <th>1</th>\n",
       "      <td>2421</td>\n",
       "      <td>18612</td>\n",
       "    </tr>\n",
       "  </tbody>\n",
       "</table>\n",
       "</div>"
      ],
      "text/plain": [
       "col_0             0      1\n",
       "h1n1_vaccine              \n",
       "0             20099    934\n",
       "1              2421  18612"
      ]
     },
     "execution_count": 462,
     "metadata": {},
     "output_type": "execute_result"
    }
   ],
   "source": [
    "pd.crosstab(y_smote,gbmpredict_smote)"
   ]
  },
  {
   "cell_type": "code",
   "execution_count": 463,
   "id": "9521eef9",
   "metadata": {},
   "outputs": [
    {
     "name": "stderr",
     "output_type": "stream",
     "text": [
      "C:\\Users\\saich\\anaconda3\\lib\\site-packages\\sklearn\\utils\\deprecation.py:87: FutureWarning: Function plot_roc_curve is deprecated; Function :func:`plot_roc_curve` is deprecated in 1.0 and will be removed in 1.2. Use one of the class methods: :meth:`sklearn.metric.RocCurveDisplay.from_predictions` or :meth:`sklearn.metric.RocCurveDisplay.from_estimator`.\n",
      "  warnings.warn(msg, category=FutureWarning)\n"
     ]
    },
    {
     "data": {
      "text/plain": [
       "<sklearn.metrics._plot.roc_curve.RocCurveDisplay at 0x2360f8a9760>"
      ]
     },
     "execution_count": 463,
     "metadata": {},
     "output_type": "execute_result"
    },
    {
     "data": {
      "image/png": "[encoded data removed]",
      "text/plain": [
       "<Figure size 432x288 with 1 Axes>"
      ]
     },
     "metadata": {
      "needs_background": "light"
     },
     "output_type": "display_data"
    }
   ],
   "source": [
    "plot_roc_curve(gbmmodel_smote,X_smote,y_smote)"
   ]
  },
  {
   "cell_type": "markdown",
   "id": "035f02cf",
   "metadata": {},
   "source": [
    "### Support Vector Classification for H1N1 Vaccine : "
   ]
  },
  {
   "cell_type": "code",
   "execution_count": 464,
   "id": "d34c303a",
   "metadata": {},
   "outputs": [],
   "source": [
    "svmmodel_smote = svm.fit(X_smote,y_smote)"
   ]
  },
  {
   "cell_type": "code",
   "execution_count": 465,
   "id": "b0445294",
   "metadata": {},
   "outputs": [
    {
     "data": {
      "text/plain": [
       "0.8064470118385394"
      ]
     },
     "execution_count": 465,
     "metadata": {},
     "output_type": "execute_result"
    }
   ],
   "source": [
    "svmmodel_smote.score(X_smote,y_smote)"
   ]
  },
  {
   "cell_type": "code",
   "execution_count": 489,
   "id": "83975497",
   "metadata": {},
   "outputs": [
    {
     "data": {
      "text/plain": [
       "array([0.75861659, 0.79044336, 0.81267087, 0.81564246, 0.80387496])"
      ]
     },
     "execution_count": 489,
     "metadata": {},
     "output_type": "execute_result"
    }
   ],
   "source": [
    "cross_val_score(svmmodel_smote,X_smote,y_smote)"
   ]
  },
  {
   "cell_type": "code",
   "execution_count": 519,
   "id": "0d8560bc",
   "metadata": {},
   "outputs": [
    {
     "data": {
      "text/plain": [
       "0.796249648"
      ]
     },
     "execution_count": 519,
     "metadata": {},
     "output_type": "execute_result"
    }
   ],
   "source": [
    "np.mean([0.75861659, 0.79044336, 0.81267087, 0.81564246, 0.80387496])"
   ]
  },
  {
   "cell_type": "code",
   "execution_count": 466,
   "id": "cbe8b86d",
   "metadata": {},
   "outputs": [],
   "source": [
    "svmsmote_predict = svmmodel_smote.predict(X_smote)"
   ]
  },
  {
   "cell_type": "code",
   "execution_count": 549,
   "id": "b2904c82",
   "metadata": {},
   "outputs": [],
   "source": [
    "svmsmote_predict_test = svmmodel_smote.predict(vaccinetestdf)"
   ]
  },
  {
   "cell_type": "code",
   "execution_count": 550,
   "id": "73119d93",
   "metadata": {},
   "outputs": [],
   "source": [
    "pd.DataFrame(svmsmote_predict_test).to_csv('h1n1svm.csv')"
   ]
  },
  {
   "cell_type": "code",
   "execution_count": 467,
   "id": "76891ccd",
   "metadata": {},
   "outputs": [
    {
     "name": "stdout",
     "output_type": "stream",
     "text": [
      "              precision    recall  f1-score   support\n",
      "\n",
      "           0       0.89      0.96      0.92     21033\n",
      "           1       0.95      0.88      0.92     21033\n",
      "\n",
      "    accuracy                           0.92     42066\n",
      "   macro avg       0.92      0.92      0.92     42066\n",
      "weighted avg       0.92      0.92      0.92     42066\n",
      "\n"
     ]
    }
   ],
   "source": [
    "print(classification_report(y_smote,gbmpredict_smote))"
   ]
  },
  {
   "cell_type": "code",
   "execution_count": 468,
   "id": "e360a846",
   "metadata": {},
   "outputs": [
    {
     "data": {
      "text/html": [
       "<div>\n",
       "<style scoped>\n",
       "    .dataframe tbody tr th:only-of-type {\n",
       "        vertical-align: middle;\n",
       "    }\n",
       "\n",
       "    .dataframe tbody tr th {\n",
       "        vertical-align: top;\n",
       "    }\n",
       "\n",
       "    .dataframe thead th {\n",
       "        text-align: right;\n",
       "    }\n",
       "</style>\n",
       "<table border=\"1\" class=\"dataframe\">\n",
       "  <thead>\n",
       "    <tr style=\"text-align: right;\">\n",
       "      <th>col_0</th>\n",
       "      <th>0</th>\n",
       "      <th>1</th>\n",
       "    </tr>\n",
       "    <tr>\n",
       "      <th>h1n1_vaccine</th>\n",
       "      <th></th>\n",
       "      <th></th>\n",
       "    </tr>\n",
       "  </thead>\n",
       "  <tbody>\n",
       "    <tr>\n",
       "      <th>0</th>\n",
       "      <td>20099</td>\n",
       "      <td>934</td>\n",
       "    </tr>\n",
       "    <tr>\n",
       "      <th>1</th>\n",
       "      <td>2421</td>\n",
       "      <td>18612</td>\n",
       "    </tr>\n",
       "  </tbody>\n",
       "</table>\n",
       "</div>"
      ],
      "text/plain": [
       "col_0             0      1\n",
       "h1n1_vaccine              \n",
       "0             20099    934\n",
       "1              2421  18612"
      ]
     },
     "execution_count": 468,
     "metadata": {},
     "output_type": "execute_result"
    }
   ],
   "source": [
    "pd.crosstab(y_smote,gbmpredict_smote)"
   ]
  },
  {
   "cell_type": "code",
   "execution_count": 469,
   "id": "dd6664f9",
   "metadata": {},
   "outputs": [
    {
     "name": "stderr",
     "output_type": "stream",
     "text": [
      "C:\\Users\\saich\\anaconda3\\lib\\site-packages\\sklearn\\utils\\deprecation.py:87: FutureWarning: Function plot_roc_curve is deprecated; Function :func:`plot_roc_curve` is deprecated in 1.0 and will be removed in 1.2. Use one of the class methods: :meth:`sklearn.metric.RocCurveDisplay.from_predictions` or :meth:`sklearn.metric.RocCurveDisplay.from_estimator`.\n",
      "  warnings.warn(msg, category=FutureWarning)\n"
     ]
    },
    {
     "data": {
      "text/plain": [
       "<sklearn.metrics._plot.roc_curve.RocCurveDisplay at 0x236609286d0>"
      ]
     },
     "execution_count": 469,
     "metadata": {},
     "output_type": "execute_result"
    },
    {
     "data": {
      "image/png": "[encoded data removed]",
      "text/plain": [
       "<Figure size 432x288 with 1 Axes>"
      ]
     },
     "metadata": {
      "needs_background": "light"
     },
     "output_type": "display_data"
    }
   ],
   "source": [
    "plot_roc_curve(svmmodel_smote,X_smote,y_smote)"
   ]
  },
  {
   "cell_type": "markdown",
   "id": "41a21d95",
   "metadata": {},
   "source": [
    "### Naive Bayes Classification for H1N1 Vaccine : "
   ]
  },
  {
   "cell_type": "code",
   "execution_count": 471,
   "id": "25fa9e70",
   "metadata": {},
   "outputs": [],
   "source": [
    "nbmodel_smote = nb.fit(X_smote,y_smote)"
   ]
  },
  {
   "cell_type": "code",
   "execution_count": 472,
   "id": "ff35c59a",
   "metadata": {},
   "outputs": [
    {
     "data": {
      "text/plain": [
       "0.7696001521418723"
      ]
     },
     "execution_count": 472,
     "metadata": {},
     "output_type": "execute_result"
    }
   ],
   "source": [
    "nbmodel_smote.score(X_smote,y_smote)"
   ]
  },
  {
   "cell_type": "code",
   "execution_count": 478,
   "id": "7d3ebe07",
   "metadata": {},
   "outputs": [
    {
     "data": {
      "text/plain": [
       "array([0.64606608, 0.75121835, 0.81397837, 0.81195768, 0.80744087])"
      ]
     },
     "execution_count": 478,
     "metadata": {},
     "output_type": "execute_result"
    }
   ],
   "source": [
    "cross_val_score(nbmodel_smote,X_smote,y_smote)"
   ]
  },
  {
   "cell_type": "code",
   "execution_count": 479,
   "id": "df71ea25",
   "metadata": {},
   "outputs": [
    {
     "data": {
      "text/plain": [
       "0.76613227"
      ]
     },
     "execution_count": 479,
     "metadata": {},
     "output_type": "execute_result"
    }
   ],
   "source": [
    "np.mean([0.64606608, 0.75121835, 0.81397837, 0.81195768, 0.80744087])"
   ]
  },
  {
   "cell_type": "code",
   "execution_count": 482,
   "id": "74f357b8",
   "metadata": {},
   "outputs": [],
   "source": [
    "nbsmote_predict = nbmodel_smote.predict(X_smote)"
   ]
  },
  {
   "cell_type": "code",
   "execution_count": 551,
   "id": "3384680e",
   "metadata": {},
   "outputs": [],
   "source": [
    "nbsmote_predict_test = nbmodel_smote.predict_proba(vaccinetestdf)"
   ]
  },
  {
   "cell_type": "code",
   "execution_count": 552,
   "id": "ab3d92a0",
   "metadata": {},
   "outputs": [],
   "source": [
    "pd.DataFrame(nbsmote_predict_test).to_csv('h1n1nb.csv')"
   ]
  },
  {
   "cell_type": "code",
   "execution_count": 483,
   "id": "35d56c5b",
   "metadata": {},
   "outputs": [
    {
     "name": "stdout",
     "output_type": "stream",
     "text": [
      "              precision    recall  f1-score   support\n",
      "\n",
      "           0       0.78      0.75      0.76     21033\n",
      "           1       0.76      0.79      0.77     21033\n",
      "\n",
      "    accuracy                           0.77     42066\n",
      "   macro avg       0.77      0.77      0.77     42066\n",
      "weighted avg       0.77      0.77      0.77     42066\n",
      "\n"
     ]
    }
   ],
   "source": [
    "print(classification_report(y_smote,nbsmote_predict))"
   ]
  },
  {
   "cell_type": "code",
   "execution_count": 477,
   "id": "40fe380f",
   "metadata": {},
   "outputs": [
    {
     "data": {
      "text/html": [
       "<div>\n",
       "<style scoped>\n",
       "    .dataframe tbody tr th:only-of-type {\n",
       "        vertical-align: middle;\n",
       "    }\n",
       "\n",
       "    .dataframe tbody tr th {\n",
       "        vertical-align: top;\n",
       "    }\n",
       "\n",
       "    .dataframe thead th {\n",
       "        text-align: right;\n",
       "    }\n",
       "</style>\n",
       "<table border=\"1\" class=\"dataframe\">\n",
       "  <thead>\n",
       "    <tr style=\"text-align: right;\">\n",
       "      <th>col_0</th>\n",
       "      <th>0</th>\n",
       "      <th>1</th>\n",
       "    </tr>\n",
       "    <tr>\n",
       "      <th>h1n1_vaccine</th>\n",
       "      <th></th>\n",
       "      <th></th>\n",
       "    </tr>\n",
       "  </thead>\n",
       "  <tbody>\n",
       "    <tr>\n",
       "      <th>0</th>\n",
       "      <td>15716</td>\n",
       "      <td>5317</td>\n",
       "    </tr>\n",
       "    <tr>\n",
       "      <th>1</th>\n",
       "      <td>4375</td>\n",
       "      <td>16658</td>\n",
       "    </tr>\n",
       "  </tbody>\n",
       "</table>\n",
       "</div>"
      ],
      "text/plain": [
       "col_0             0      1\n",
       "h1n1_vaccine              \n",
       "0             15716   5317\n",
       "1              4375  16658"
      ]
     },
     "execution_count": 477,
     "metadata": {},
     "output_type": "execute_result"
    }
   ],
   "source": [
    "pd.crosstab(y_smote,nbsmote_predict)"
   ]
  },
  {
   "cell_type": "code",
   "execution_count": 485,
   "id": "7de77eaf",
   "metadata": {},
   "outputs": [],
   "source": [
    "from sklearn.metrics import RocCurveDisplay"
   ]
  },
  {
   "cell_type": "code",
   "execution_count": 488,
   "id": "a360ec4f",
   "metadata": {},
   "outputs": [
    {
     "name": "stderr",
     "output_type": "stream",
     "text": [
      "C:\\Users\\saich\\anaconda3\\lib\\site-packages\\sklearn\\utils\\deprecation.py:87: FutureWarning: Function plot_roc_curve is deprecated; Function :func:`plot_roc_curve` is deprecated in 1.0 and will be removed in 1.2. Use one of the class methods: :meth:`sklearn.metric.RocCurveDisplay.from_predictions` or :meth:`sklearn.metric.RocCurveDisplay.from_estimator`.\n",
      "  warnings.warn(msg, category=FutureWarning)\n"
     ]
    },
    {
     "data": {
      "text/plain": [
       "<sklearn.metrics._plot.roc_curve.RocCurveDisplay at 0x2360fc4b2b0>"
      ]
     },
     "execution_count": 488,
     "metadata": {},
     "output_type": "execute_result"
    },
    {
     "data": {
      "image/png": "[encoded data removed]",
      "text/plain": [
       "<Figure size 432x288 with 1 Axes>"
      ]
     },
     "metadata": {
      "needs_background": "light"
     },
     "output_type": "display_data"
    }
   ],
   "source": [
    "plot_roc_curve(nbmodel_smote,X_smote,y_smote)"
   ]
  },
  {
   "attachments": {
    "Evaluation%20Metrics%20H1n1_vaccine%20-%20Seasonal%20Vaccine%20Metrics_page-0001%20%281%29.jpg": {
     "image/jpeg": "[encoded data removed]"
    }
   },
   "cell_type": "markdown",
   "id": "9a010bcf",
   "metadata": {},
   "source": [
    "# Performance Metric Report:\n",
    "![Evaluation%20Metrics%20H1n1_vaccine%20-%20Seasonal%20Vaccine%20Metrics_page-0001%20%281%29.jpg](attachment:Evaluation%20Metrics%20H1n1_vaccine%20-%20Seasonal%20Vaccine%20Metrics_page-0001%20%281%29.jpg)"
   ]
  },
  {
   "cell_type": "markdown",
   "id": "5921c552",
   "metadata": {},
   "source": [
    "# Conclusion:\n",
    "\n",
    "* I entered the predicted test values into the competition Flu Shot Learning: Predict H1N1 and Seasonal Flu Vaccines on the driven.org website. Of all of the models The most accurate classification method is gradient boosting with accuracy 0.7534"
   ]
  },
  {
   "cell_type": "code",
   "execution_count": null,
   "id": "d116dabd",
   "metadata": {},
   "outputs": [],
   "source": []
  }
 ],
 "metadata": {
  "kernelspec": {
   "display_name": "Python 3 (ipykernel)",
   "language": "python",
   "name": "python3"
  },
  "language_info": {
   "codemirror_mode": {
    "name": "ipython",
    "version": 3
   },
   "file_extension": ".py",
   "mimetype": "text/x-python",
   "name": "python",
   "nbconvert_exporter": "python",
   "pygments_lexer": "ipython3",
   "version": "3.9.12"
  }
 },
 "nbformat": 4,
 "nbformat_minor": 5
}
